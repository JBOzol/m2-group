{
  "nbformat": 4,
  "nbformat_minor": 0,
  "metadata": {
    "colab": {
      "name": "SDS M2 group.ipynb",
      "provenance": [],
      "collapsed_sections": []
    },
    "kernelspec": {
      "name": "python3",
      "display_name": "Python 3"
    }
  },
  "cells": [
    {
      "cell_type": "markdown",
      "metadata": {
        "id": "ajzYQLi4gr2c",
        "colab_type": "text"
      },
      "source": [
        "##Importing various packages and data\n",
        "First we import various packages and our datasets. The datasets has been uploaded to our GitHub-repository, and we use the !wget command to download them."
      ]
    },
    {
      "cell_type": "code",
      "metadata": {
        "id": "vS0VVXRsdXtm",
        "colab_type": "code",
        "outputId": "cab7749f-11fe-4504-9a91-c32d585b7264",
        "colab": {
          "base_uri": "https://localhost:8080/",
          "height": 118
        }
      },
      "source": [
        "import pandas as pd\n",
        "import numpy as np\n",
        "!pip -q install eli5\n",
        "import nltk\n",
        "nltk.download('punkt')\n",
        "nltk.download('stopwords')\n",
        "from nltk.tokenize import word_tokenize, sent_tokenize\n",
        "import re\n",
        "from sklearn.feature_extraction.text import CountVectorizer\n",
        "from sklearn.linear_model import LogisticRegression\n",
        "from sklearn.metrics import accuracy_score\n",
        "import eli5\n",
        "from sklearn.feature_extraction.text import TfidfVectorizer\n",
        "from sklearn.decomposition import TruncatedSVD\n",
        "from xgboost import XGBClassifier\n",
        "from sklearn.pipeline import Pipeline, make_pipeline\n",
        "from eli5.lime import TextExplainer\n",
        "import gensim.downloader as api\n",
        "import gensim\n",
        "from gensim.models import Word2Vec, FastText"
      ],
      "execution_count": 0,
      "outputs": [
        {
          "output_type": "stream",
          "text": [
            "\u001b[?25l\r\u001b[K     |███                             | 10kB 22.7MB/s eta 0:00:01\r\u001b[K     |██████▏                         | 20kB 1.8MB/s eta 0:00:01\r\u001b[K     |█████████▎                      | 30kB 2.6MB/s eta 0:00:01\r\u001b[K     |████████████▍                   | 40kB 1.7MB/s eta 0:00:01\r\u001b[K     |███████████████▌                | 51kB 2.1MB/s eta 0:00:01\r\u001b[K     |██████████████████▋             | 61kB 2.5MB/s eta 0:00:01\r\u001b[K     |█████████████████████▊          | 71kB 2.9MB/s eta 0:00:01\r\u001b[K     |████████████████████████▊       | 81kB 3.3MB/s eta 0:00:01\r\u001b[K     |███████████████████████████▉    | 92kB 3.7MB/s eta 0:00:01\r\u001b[K     |███████████████████████████████ | 102kB 2.9MB/s eta 0:00:01\r\u001b[K     |████████████████████████████████| 112kB 2.9MB/s \n",
            "\u001b[?25h[nltk_data] Downloading package punkt to /root/nltk_data...\n",
            "[nltk_data]   Unzipping tokenizers/punkt.zip.\n",
            "[nltk_data] Downloading package stopwords to /root/nltk_data...\n",
            "[nltk_data]   Unzipping corpora/stopwords.zip.\n"
          ],
          "name": "stdout"
        },
        {
          "output_type": "stream",
          "text": [
            "Using TensorFlow backend.\n"
          ],
          "name": "stderr"
        }
      ]
    },
    {
      "cell_type": "code",
      "metadata": {
        "id": "RwlPTTQPdfiS",
        "colab_type": "code",
        "colab": {}
      },
      "source": [
        "!wget -q https://github.com/JBOzol/m2-group/raw/master/DAX.csv -O DAX.csv\n",
        "!wget -q https://github.com/JBOzol/m2-group/raw/master/Shanghai.csv -O Shanghai.csv\n",
        "!wget -q https://github.com/JBOzol/m2-group/raw/master/SP500.csv -O SP500.csv\n",
        "!wget -q https://github.com/JBOzol/m2-group/raw/master/csv.txt -O csv.txt"
      ],
      "execution_count": 0,
      "outputs": []
    },
    {
      "cell_type": "markdown",
      "metadata": {
        "id": "jvwVtxBohYFv",
        "colab_type": "text"
      },
      "source": [
        "Now we can make our dataframes. For now, we make four dataframes: one for each dataset we have fetched."
      ]
    },
    {
      "cell_type": "code",
      "metadata": {
        "id": "XL80PHJ8eCM4",
        "colab_type": "code",
        "colab": {}
      },
      "source": [
        "tweets = pd.read_csv('csv.txt', sep=',')\n",
        "dax = pd.read_csv('DAX.csv', sep=\";\")\n",
        "usa = pd.read_csv('SP500.csv', sep=\";\")\n",
        "china = pd.read_csv('Shanghai.csv',sep=\";\")"
      ],
      "execution_count": 0,
      "outputs": []
    },
    {
      "cell_type": "markdown",
      "metadata": {
        "id": "v02IC7K6hjo8",
        "colab_type": "text"
      },
      "source": [
        "We examine the tweets dataframe as it is the most complex."
      ]
    },
    {
      "cell_type": "code",
      "metadata": {
        "id": "Ar7z4xFPebhR",
        "colab_type": "code",
        "outputId": "7b04463b-8360-41d3-f6ac-0f776f7d65df",
        "colab": {
          "base_uri": "https://localhost:8080/",
          "height": 195
        }
      },
      "source": [
        "tweets.head()"
      ],
      "execution_count": 0,
      "outputs": [
        {
          "output_type": "execute_result",
          "data": {
            "text/html": [
              "<div>\n",
              "<style scoped>\n",
              "    .dataframe tbody tr th:only-of-type {\n",
              "        vertical-align: middle;\n",
              "    }\n",
              "\n",
              "    .dataframe tbody tr th {\n",
              "        vertical-align: top;\n",
              "    }\n",
              "\n",
              "    .dataframe thead th {\n",
              "        text-align: right;\n",
              "    }\n",
              "</style>\n",
              "<table border=\"1\" class=\"dataframe\">\n",
              "  <thead>\n",
              "    <tr style=\"text-align: right;\">\n",
              "      <th></th>\n",
              "      <th>source</th>\n",
              "      <th>text</th>\n",
              "      <th>created_at</th>\n",
              "      <th>retweet_count</th>\n",
              "      <th>favorite_count</th>\n",
              "      <th>is_retweet</th>\n",
              "      <th>id_str</th>\n",
              "    </tr>\n",
              "  </thead>\n",
              "  <tbody>\n",
              "    <tr>\n",
              "      <th>0</th>\n",
              "      <td>Twitter for iPhone</td>\n",
              "      <td>....He is also my friend! At the same time I a...</td>\n",
              "      <td>10-18-2019 19:34:21</td>\n",
              "      <td>9387</td>\n",
              "      <td>43428</td>\n",
              "      <td>False</td>\n",
              "      <td>1185277957436248065</td>\n",
              "    </tr>\n",
              "    <tr>\n",
              "      <th>1</th>\n",
              "      <td>Twitter for iPhone</td>\n",
              "      <td>I want to thank Secretary of Energy Rick Perry...</td>\n",
              "      <td>10-18-2019 19:34:20</td>\n",
              "      <td>11842</td>\n",
              "      <td>56210</td>\n",
              "      <td>False</td>\n",
              "      <td>1185277956551254018</td>\n",
              "    </tr>\n",
              "    <tr>\n",
              "      <th>2</th>\n",
              "      <td>Twitter for iPhone</td>\n",
              "      <td>Can you believe I am doing this important work...</td>\n",
              "      <td>10-18-2019 15:51:42</td>\n",
              "      <td>29207</td>\n",
              "      <td>125905</td>\n",
              "      <td>False</td>\n",
              "      <td>1185221926991609862</td>\n",
              "    </tr>\n",
              "    <tr>\n",
              "      <th>3</th>\n",
              "      <td>Twitter for iPhone</td>\n",
              "      <td>DEFEAT TERRORISM! https://t.co/8WbnLPgWIK</td>\n",
              "      <td>10-18-2019 15:46:14</td>\n",
              "      <td>16078</td>\n",
              "      <td>61324</td>\n",
              "      <td>False</td>\n",
              "      <td>1185220552254017537</td>\n",
              "    </tr>\n",
              "    <tr>\n",
              "      <th>4</th>\n",
              "      <td>Twitter for iPhone</td>\n",
              "      <td>Just spoke to President @RTErdogan of Turkey. ...</td>\n",
              "      <td>10-18-2019 15:42:37</td>\n",
              "      <td>15071</td>\n",
              "      <td>59476</td>\n",
              "      <td>False</td>\n",
              "      <td>1185219641972539392</td>\n",
              "    </tr>\n",
              "  </tbody>\n",
              "</table>\n",
              "</div>"
            ],
            "text/plain": [
              "               source  ...               id_str\n",
              "0  Twitter for iPhone  ...  1185277957436248065\n",
              "1  Twitter for iPhone  ...  1185277956551254018\n",
              "2  Twitter for iPhone  ...  1185221926991609862\n",
              "3  Twitter for iPhone  ...  1185220552254017537\n",
              "4  Twitter for iPhone  ...  1185219641972539392\n",
              "\n",
              "[5 rows x 7 columns]"
            ]
          },
          "metadata": {
            "tags": []
          },
          "execution_count": 4
        }
      ]
    },
    {
      "cell_type": "code",
      "metadata": {
        "id": "FPSgHZMYeycv",
        "colab_type": "code",
        "outputId": "d6470ba5-4132-4622-89c2-2bfd79199f6b",
        "colab": {
          "base_uri": "https://localhost:8080/",
          "height": 218
        }
      },
      "source": [
        "tweets.info()"
      ],
      "execution_count": 0,
      "outputs": [
        {
          "output_type": "stream",
          "text": [
            "<class 'pandas.core.frame.DataFrame'>\n",
            "RangeIndex: 12321 entries, 0 to 12320\n",
            "Data columns (total 7 columns):\n",
            "source            12321 non-null object\n",
            "text              12321 non-null object\n",
            "created_at        12321 non-null object\n",
            "retweet_count     12321 non-null int64\n",
            "favorite_count    12321 non-null int64\n",
            "is_retweet        12263 non-null object\n",
            "id_str            12321 non-null int64\n",
            "dtypes: int64(3), object(4)\n",
            "memory usage: 673.9+ KB\n"
          ],
          "name": "stdout"
        }
      ]
    },
    {
      "cell_type": "markdown",
      "metadata": {
        "id": "zH6ohE97iM4_",
        "colab_type": "text"
      },
      "source": [
        "Now we look into the three indexes."
      ]
    },
    {
      "cell_type": "code",
      "metadata": {
        "id": "H6WQzAamTJGB",
        "colab_type": "code",
        "outputId": "969e703e-8094-4117-8c34-0eb61cb1a7e8",
        "colab": {
          "base_uri": "https://localhost:8080/",
          "height": 554
        }
      },
      "source": [
        "print(dax.info())\n",
        "print()\n",
        "print(usa.info())\n",
        "print()\n",
        "print(china.info())"
      ],
      "execution_count": 0,
      "outputs": [
        {
          "output_type": "stream",
          "text": [
            "<class 'pandas.core.frame.DataFrame'>\n",
            "RangeIndex: 768 entries, 0 to 767\n",
            "Data columns (total 4 columns):\n",
            "Date          768 non-null object\n",
            "dax_close     768 non-null float64\n",
            "dax_return    768 non-null float64\n",
            "dax_op        768 non-null int64\n",
            "dtypes: float64(2), int64(1), object(1)\n",
            "memory usage: 24.1+ KB\n",
            "None\n",
            "\n",
            "<class 'pandas.core.frame.DataFrame'>\n",
            "RangeIndex: 767 entries, 0 to 766\n",
            "Data columns (total 4 columns):\n",
            "Date          767 non-null object\n",
            "usa_close     767 non-null float64\n",
            "usa_return    767 non-null float64\n",
            "usa_op        767 non-null int64\n",
            "dtypes: float64(2), int64(1), object(1)\n",
            "memory usage: 24.1+ KB\n",
            "None\n",
            "\n",
            "<class 'pandas.core.frame.DataFrame'>\n",
            "RangeIndex: 736 entries, 0 to 735\n",
            "Data columns (total 4 columns):\n",
            "Date            736 non-null object\n",
            "china_close     736 non-null float64\n",
            "china_return    736 non-null float64\n",
            "china_op        736 non-null int64\n",
            "dtypes: float64(2), int64(1), object(1)\n",
            "memory usage: 23.1+ KB\n",
            "None\n"
          ],
          "name": "stdout"
        }
      ]
    },
    {
      "cell_type": "markdown",
      "metadata": {
        "id": "QT-EG59GiReN",
        "colab_type": "text"
      },
      "source": [
        "From examining the data, it looks like we need to fix the datetimes so they are similar through-out all four dataframes. We make a while loop to make two new variables: a unix time code variable, and a simple date variable.\n",
        "\n",
        "We do this for all four dataframes."
      ]
    },
    {
      "cell_type": "code",
      "metadata": {
        "id": "rapGnAnQsr07",
        "colab_type": "code",
        "colab": {}
      },
      "source": [
        "import datetime as dt\n",
        "import time"
      ],
      "execution_count": 0,
      "outputs": []
    },
    {
      "cell_type": "code",
      "metadata": {
        "id": "k0ZYdonh8YPj",
        "colab_type": "code",
        "outputId": "dc8a4317-5f55-4eea-cbe4-d64ad9926728",
        "colab": {
          "base_uri": "https://localhost:8080/",
          "height": 195
        }
      },
      "source": [
        "tweets['timeline'] = pd.to_datetime(tweets['created_at'])\n",
        "a = 0\n",
        "b = len(tweets)\n",
        "c = []\n",
        "d = []\n",
        "while a < b :\n",
        " c.append(dt.datetime.timestamp(tweets.loc[a].timeline))\n",
        " d.append(dt.datetime.date(tweets.loc[a].timeline))\n",
        " a += 1\n",
        "tweets['timeline'] = c\n",
        "tweets['dato'] = d\n",
        "tweets.head()"
      ],
      "execution_count": 0,
      "outputs": [
        {
          "output_type": "execute_result",
          "data": {
            "text/html": [
              "<div>\n",
              "<style scoped>\n",
              "    .dataframe tbody tr th:only-of-type {\n",
              "        vertical-align: middle;\n",
              "    }\n",
              "\n",
              "    .dataframe tbody tr th {\n",
              "        vertical-align: top;\n",
              "    }\n",
              "\n",
              "    .dataframe thead th {\n",
              "        text-align: right;\n",
              "    }\n",
              "</style>\n",
              "<table border=\"1\" class=\"dataframe\">\n",
              "  <thead>\n",
              "    <tr style=\"text-align: right;\">\n",
              "      <th></th>\n",
              "      <th>source</th>\n",
              "      <th>text</th>\n",
              "      <th>created_at</th>\n",
              "      <th>retweet_count</th>\n",
              "      <th>favorite_count</th>\n",
              "      <th>is_retweet</th>\n",
              "      <th>id_str</th>\n",
              "      <th>timeline</th>\n",
              "      <th>dato</th>\n",
              "    </tr>\n",
              "  </thead>\n",
              "  <tbody>\n",
              "    <tr>\n",
              "      <th>0</th>\n",
              "      <td>Twitter for iPhone</td>\n",
              "      <td>....He is also my friend! At the same time I a...</td>\n",
              "      <td>10-18-2019 19:34:21</td>\n",
              "      <td>9387</td>\n",
              "      <td>43428</td>\n",
              "      <td>False</td>\n",
              "      <td>1185277957436248065</td>\n",
              "      <td>1.571427e+09</td>\n",
              "      <td>2019-10-18</td>\n",
              "    </tr>\n",
              "    <tr>\n",
              "      <th>1</th>\n",
              "      <td>Twitter for iPhone</td>\n",
              "      <td>I want to thank Secretary of Energy Rick Perry...</td>\n",
              "      <td>10-18-2019 19:34:20</td>\n",
              "      <td>11842</td>\n",
              "      <td>56210</td>\n",
              "      <td>False</td>\n",
              "      <td>1185277956551254018</td>\n",
              "      <td>1.571427e+09</td>\n",
              "      <td>2019-10-18</td>\n",
              "    </tr>\n",
              "    <tr>\n",
              "      <th>2</th>\n",
              "      <td>Twitter for iPhone</td>\n",
              "      <td>Can you believe I am doing this important work...</td>\n",
              "      <td>10-18-2019 15:51:42</td>\n",
              "      <td>29207</td>\n",
              "      <td>125905</td>\n",
              "      <td>False</td>\n",
              "      <td>1185221926991609862</td>\n",
              "      <td>1.571414e+09</td>\n",
              "      <td>2019-10-18</td>\n",
              "    </tr>\n",
              "    <tr>\n",
              "      <th>3</th>\n",
              "      <td>Twitter for iPhone</td>\n",
              "      <td>DEFEAT TERRORISM! https://t.co/8WbnLPgWIK</td>\n",
              "      <td>10-18-2019 15:46:14</td>\n",
              "      <td>16078</td>\n",
              "      <td>61324</td>\n",
              "      <td>False</td>\n",
              "      <td>1185220552254017537</td>\n",
              "      <td>1.571414e+09</td>\n",
              "      <td>2019-10-18</td>\n",
              "    </tr>\n",
              "    <tr>\n",
              "      <th>4</th>\n",
              "      <td>Twitter for iPhone</td>\n",
              "      <td>Just spoke to President @RTErdogan of Turkey. ...</td>\n",
              "      <td>10-18-2019 15:42:37</td>\n",
              "      <td>15071</td>\n",
              "      <td>59476</td>\n",
              "      <td>False</td>\n",
              "      <td>1185219641972539392</td>\n",
              "      <td>1.571413e+09</td>\n",
              "      <td>2019-10-18</td>\n",
              "    </tr>\n",
              "  </tbody>\n",
              "</table>\n",
              "</div>"
            ],
            "text/plain": [
              "               source  ...        dato\n",
              "0  Twitter for iPhone  ...  2019-10-18\n",
              "1  Twitter for iPhone  ...  2019-10-18\n",
              "2  Twitter for iPhone  ...  2019-10-18\n",
              "3  Twitter for iPhone  ...  2019-10-18\n",
              "4  Twitter for iPhone  ...  2019-10-18\n",
              "\n",
              "[5 rows x 9 columns]"
            ]
          },
          "metadata": {
            "tags": []
          },
          "execution_count": 8
        }
      ]
    },
    {
      "cell_type": "code",
      "metadata": {
        "id": "DbBfTDtanW86",
        "colab_type": "code",
        "outputId": "1dec60aa-1255-49ff-a24c-852728090ed2",
        "colab": {
          "base_uri": "https://localhost:8080/",
          "height": 195
        }
      },
      "source": [
        "dax['timeline'] = pd.to_datetime(dax['Date'], format='%d-%m-%Y')\n",
        "a = 0\n",
        "b = len(dax)\n",
        "c = []\n",
        "d = []\n",
        "while a < b :\n",
        " c.append(dt.datetime.timestamp(dax.loc[a].timeline))\n",
        " d.append(dt.datetime.date(dax.loc[a].timeline))\n",
        " a += 1\n",
        "dax['timeline'] = c\n",
        "dax['dato'] = d\n",
        "dax.head()"
      ],
      "execution_count": 0,
      "outputs": [
        {
          "output_type": "execute_result",
          "data": {
            "text/html": [
              "<div>\n",
              "<style scoped>\n",
              "    .dataframe tbody tr th:only-of-type {\n",
              "        vertical-align: middle;\n",
              "    }\n",
              "\n",
              "    .dataframe tbody tr th {\n",
              "        vertical-align: top;\n",
              "    }\n",
              "\n",
              "    .dataframe thead th {\n",
              "        text-align: right;\n",
              "    }\n",
              "</style>\n",
              "<table border=\"1\" class=\"dataframe\">\n",
              "  <thead>\n",
              "    <tr style=\"text-align: right;\">\n",
              "      <th></th>\n",
              "      <th>Date</th>\n",
              "      <th>dax_close</th>\n",
              "      <th>dax_return</th>\n",
              "      <th>dax_op</th>\n",
              "      <th>timeline</th>\n",
              "      <th>dato</th>\n",
              "    </tr>\n",
              "  </thead>\n",
              "  <tbody>\n",
              "    <tr>\n",
              "      <th>0</th>\n",
              "      <td>05-10-2016</td>\n",
              "      <td>10585.78027</td>\n",
              "      <td>-0.319580</td>\n",
              "      <td>0</td>\n",
              "      <td>1.475626e+09</td>\n",
              "      <td>2016-10-05</td>\n",
              "    </tr>\n",
              "    <tr>\n",
              "      <th>1</th>\n",
              "      <td>06-10-2016</td>\n",
              "      <td>10568.79981</td>\n",
              "      <td>-0.160666</td>\n",
              "      <td>0</td>\n",
              "      <td>1.475712e+09</td>\n",
              "      <td>2016-10-06</td>\n",
              "    </tr>\n",
              "    <tr>\n",
              "      <th>2</th>\n",
              "      <td>07-10-2016</td>\n",
              "      <td>10490.86035</td>\n",
              "      <td>-0.742927</td>\n",
              "      <td>0</td>\n",
              "      <td>1.475798e+09</td>\n",
              "      <td>2016-10-07</td>\n",
              "    </tr>\n",
              "    <tr>\n",
              "      <th>3</th>\n",
              "      <td>10-10-2016</td>\n",
              "      <td>10624.08008</td>\n",
              "      <td>1.253941</td>\n",
              "      <td>1</td>\n",
              "      <td>1.476058e+09</td>\n",
              "      <td>2016-10-10</td>\n",
              "    </tr>\n",
              "    <tr>\n",
              "      <th>4</th>\n",
              "      <td>11-10-2016</td>\n",
              "      <td>10577.16016</td>\n",
              "      <td>-0.443597</td>\n",
              "      <td>0</td>\n",
              "      <td>1.476144e+09</td>\n",
              "      <td>2016-10-11</td>\n",
              "    </tr>\n",
              "  </tbody>\n",
              "</table>\n",
              "</div>"
            ],
            "text/plain": [
              "         Date    dax_close  dax_return  dax_op      timeline        dato\n",
              "0  05-10-2016  10585.78027   -0.319580       0  1.475626e+09  2016-10-05\n",
              "1  06-10-2016  10568.79981   -0.160666       0  1.475712e+09  2016-10-06\n",
              "2  07-10-2016  10490.86035   -0.742927       0  1.475798e+09  2016-10-07\n",
              "3  10-10-2016  10624.08008    1.253941       1  1.476058e+09  2016-10-10\n",
              "4  11-10-2016  10577.16016   -0.443597       0  1.476144e+09  2016-10-11"
            ]
          },
          "metadata": {
            "tags": []
          },
          "execution_count": 9
        }
      ]
    },
    {
      "cell_type": "code",
      "metadata": {
        "id": "P7j7oUsSnz2x",
        "colab_type": "code",
        "outputId": "11ab93d7-4706-4b28-db88-3283819ac4a2",
        "colab": {
          "base_uri": "https://localhost:8080/",
          "height": 195
        }
      },
      "source": [
        "usa['timeline'] = pd.to_datetime(usa['Date'], format='%d-%m-%Y')\n",
        "a = 0\n",
        "b = len(usa)\n",
        "c = []\n",
        "d = []\n",
        "while a < b :\n",
        " c.append(dt.datetime.timestamp(usa.loc[a].timeline))\n",
        " d.append(dt.datetime.date(usa.loc[a].timeline))\n",
        " a += 1\n",
        "usa['timeline'] = c\n",
        "usa['dato'] = d\n",
        "usa.head()"
      ],
      "execution_count": 0,
      "outputs": [
        {
          "output_type": "execute_result",
          "data": {
            "text/html": [
              "<div>\n",
              "<style scoped>\n",
              "    .dataframe tbody tr th:only-of-type {\n",
              "        vertical-align: middle;\n",
              "    }\n",
              "\n",
              "    .dataframe tbody tr th {\n",
              "        vertical-align: top;\n",
              "    }\n",
              "\n",
              "    .dataframe thead th {\n",
              "        text-align: right;\n",
              "    }\n",
              "</style>\n",
              "<table border=\"1\" class=\"dataframe\">\n",
              "  <thead>\n",
              "    <tr style=\"text-align: right;\">\n",
              "      <th></th>\n",
              "      <th>Date</th>\n",
              "      <th>usa_close</th>\n",
              "      <th>usa_return</th>\n",
              "      <th>usa_op</th>\n",
              "      <th>timeline</th>\n",
              "      <th>dato</th>\n",
              "    </tr>\n",
              "  </thead>\n",
              "  <tbody>\n",
              "    <tr>\n",
              "      <th>0</th>\n",
              "      <td>03-10-2016</td>\n",
              "      <td>2161.199951</td>\n",
              "      <td>-0.327136</td>\n",
              "      <td>0</td>\n",
              "      <td>1.475453e+09</td>\n",
              "      <td>2016-10-03</td>\n",
              "    </tr>\n",
              "    <tr>\n",
              "      <th>1</th>\n",
              "      <td>04-10-2016</td>\n",
              "      <td>2150.489990</td>\n",
              "      <td>-0.498024</td>\n",
              "      <td>0</td>\n",
              "      <td>1.475539e+09</td>\n",
              "      <td>2016-10-04</td>\n",
              "    </tr>\n",
              "    <tr>\n",
              "      <th>2</th>\n",
              "      <td>05-10-2016</td>\n",
              "      <td>2159.729980</td>\n",
              "      <td>0.427831</td>\n",
              "      <td>1</td>\n",
              "      <td>1.475626e+09</td>\n",
              "      <td>2016-10-05</td>\n",
              "    </tr>\n",
              "    <tr>\n",
              "      <th>3</th>\n",
              "      <td>06-10-2016</td>\n",
              "      <td>2160.770020</td>\n",
              "      <td>0.048133</td>\n",
              "      <td>1</td>\n",
              "      <td>1.475712e+09</td>\n",
              "      <td>2016-10-06</td>\n",
              "    </tr>\n",
              "    <tr>\n",
              "      <th>4</th>\n",
              "      <td>07-10-2016</td>\n",
              "      <td>2153.739990</td>\n",
              "      <td>-0.326410</td>\n",
              "      <td>0</td>\n",
              "      <td>1.475798e+09</td>\n",
              "      <td>2016-10-07</td>\n",
              "    </tr>\n",
              "  </tbody>\n",
              "</table>\n",
              "</div>"
            ],
            "text/plain": [
              "         Date    usa_close  usa_return  usa_op      timeline        dato\n",
              "0  03-10-2016  2161.199951   -0.327136       0  1.475453e+09  2016-10-03\n",
              "1  04-10-2016  2150.489990   -0.498024       0  1.475539e+09  2016-10-04\n",
              "2  05-10-2016  2159.729980    0.427831       1  1.475626e+09  2016-10-05\n",
              "3  06-10-2016  2160.770020    0.048133       1  1.475712e+09  2016-10-06\n",
              "4  07-10-2016  2153.739990   -0.326410       0  1.475798e+09  2016-10-07"
            ]
          },
          "metadata": {
            "tags": []
          },
          "execution_count": 10
        }
      ]
    },
    {
      "cell_type": "code",
      "metadata": {
        "id": "ibKmLL6Kn1p7",
        "colab_type": "code",
        "outputId": "a06ea214-31cd-4e89-aed9-2b171449bdd6",
        "colab": {
          "base_uri": "https://localhost:8080/",
          "height": 195
        }
      },
      "source": [
        "china['timeline'] = pd.to_datetime(china['Date'], format='%d-%m-%Y')\n",
        "a = 0\n",
        "b = len(china)\n",
        "c = []\n",
        "d = []\n",
        "while a < b :\n",
        " c.append(dt.datetime.timestamp(china.loc[a].timeline))\n",
        " d.append(dt.datetime.date(china.loc[a].timeline))\n",
        " a += 1\n",
        "china['timeline'] = c\n",
        "china['dato'] = d\n",
        "china.head()"
      ],
      "execution_count": 0,
      "outputs": [
        {
          "output_type": "execute_result",
          "data": {
            "text/html": [
              "<div>\n",
              "<style scoped>\n",
              "    .dataframe tbody tr th:only-of-type {\n",
              "        vertical-align: middle;\n",
              "    }\n",
              "\n",
              "    .dataframe tbody tr th {\n",
              "        vertical-align: top;\n",
              "    }\n",
              "\n",
              "    .dataframe thead th {\n",
              "        text-align: right;\n",
              "    }\n",
              "</style>\n",
              "<table border=\"1\" class=\"dataframe\">\n",
              "  <thead>\n",
              "    <tr style=\"text-align: right;\">\n",
              "      <th></th>\n",
              "      <th>Date</th>\n",
              "      <th>china_close</th>\n",
              "      <th>china_return</th>\n",
              "      <th>china_op</th>\n",
              "      <th>timeline</th>\n",
              "      <th>dato</th>\n",
              "    </tr>\n",
              "  </thead>\n",
              "  <tbody>\n",
              "    <tr>\n",
              "      <th>0</th>\n",
              "      <td>11-10-2016</td>\n",
              "      <td>3065.250000</td>\n",
              "      <td>0.558093</td>\n",
              "      <td>1</td>\n",
              "      <td>1.476144e+09</td>\n",
              "      <td>2016-10-11</td>\n",
              "    </tr>\n",
              "    <tr>\n",
              "      <th>1</th>\n",
              "      <td>12-10-2016</td>\n",
              "      <td>3058.498047</td>\n",
              "      <td>-0.220760</td>\n",
              "      <td>0</td>\n",
              "      <td>1.476230e+09</td>\n",
              "      <td>2016-10-12</td>\n",
              "    </tr>\n",
              "    <tr>\n",
              "      <th>2</th>\n",
              "      <td>13-10-2016</td>\n",
              "      <td>3061.345947</td>\n",
              "      <td>0.093028</td>\n",
              "      <td>1</td>\n",
              "      <td>1.476317e+09</td>\n",
              "      <td>2016-10-13</td>\n",
              "    </tr>\n",
              "    <tr>\n",
              "      <th>3</th>\n",
              "      <td>14-10-2016</td>\n",
              "      <td>3063.809082</td>\n",
              "      <td>0.080395</td>\n",
              "      <td>1</td>\n",
              "      <td>1.476403e+09</td>\n",
              "      <td>2016-10-14</td>\n",
              "    </tr>\n",
              "    <tr>\n",
              "      <th>4</th>\n",
              "      <td>17-10-2016</td>\n",
              "      <td>3041.166016</td>\n",
              "      <td>-0.744552</td>\n",
              "      <td>0</td>\n",
              "      <td>1.476662e+09</td>\n",
              "      <td>2016-10-17</td>\n",
              "    </tr>\n",
              "  </tbody>\n",
              "</table>\n",
              "</div>"
            ],
            "text/plain": [
              "         Date  china_close  china_return  china_op      timeline        dato\n",
              "0  11-10-2016  3065.250000      0.558093         1  1.476144e+09  2016-10-11\n",
              "1  12-10-2016  3058.498047     -0.220760         0  1.476230e+09  2016-10-12\n",
              "2  13-10-2016  3061.345947      0.093028         1  1.476317e+09  2016-10-13\n",
              "3  14-10-2016  3063.809082      0.080395         1  1.476403e+09  2016-10-14\n",
              "4  17-10-2016  3041.166016     -0.744552         0  1.476662e+09  2016-10-17"
            ]
          },
          "metadata": {
            "tags": []
          },
          "execution_count": 11
        }
      ]
    },
    {
      "cell_type": "code",
      "metadata": {
        "id": "bGvDEIInuM6p",
        "colab_type": "code",
        "outputId": "421496a9-471e-4841-a1c3-914ea1aea9b8",
        "colab": {
          "base_uri": "https://localhost:8080/",
          "height": 504
        }
      },
      "source": [
        "print(tweets.head())\n",
        "print('=====================')\n",
        "print(dax.head())\n",
        "print('=====================')\n",
        "print(china.head())\n",
        "print('=====================')\n",
        "print(usa.head())"
      ],
      "execution_count": 0,
      "outputs": [
        {
          "output_type": "stream",
          "text": [
            "               source  ...        dato\n",
            "0  Twitter for iPhone  ...  2019-10-18\n",
            "1  Twitter for iPhone  ...  2019-10-18\n",
            "2  Twitter for iPhone  ...  2019-10-18\n",
            "3  Twitter for iPhone  ...  2019-10-18\n",
            "4  Twitter for iPhone  ...  2019-10-18\n",
            "\n",
            "[5 rows x 9 columns]\n",
            "=====================\n",
            "         Date    dax_close  dax_return  dax_op      timeline        dato\n",
            "0  05-10-2016  10585.78027   -0.319580       0  1.475626e+09  2016-10-05\n",
            "1  06-10-2016  10568.79981   -0.160666       0  1.475712e+09  2016-10-06\n",
            "2  07-10-2016  10490.86035   -0.742927       0  1.475798e+09  2016-10-07\n",
            "3  10-10-2016  10624.08008    1.253941       1  1.476058e+09  2016-10-10\n",
            "4  11-10-2016  10577.16016   -0.443597       0  1.476144e+09  2016-10-11\n",
            "=====================\n",
            "         Date  china_close  china_return  china_op      timeline        dato\n",
            "0  11-10-2016  3065.250000      0.558093         1  1.476144e+09  2016-10-11\n",
            "1  12-10-2016  3058.498047     -0.220760         0  1.476230e+09  2016-10-12\n",
            "2  13-10-2016  3061.345947      0.093028         1  1.476317e+09  2016-10-13\n",
            "3  14-10-2016  3063.809082      0.080395         1  1.476403e+09  2016-10-14\n",
            "4  17-10-2016  3041.166016     -0.744552         0  1.476662e+09  2016-10-17\n",
            "=====================\n",
            "         Date    usa_close  usa_return  usa_op      timeline        dato\n",
            "0  03-10-2016  2161.199951   -0.327136       0  1.475453e+09  2016-10-03\n",
            "1  04-10-2016  2150.489990   -0.498024       0  1.475539e+09  2016-10-04\n",
            "2  05-10-2016  2159.729980    0.427831       1  1.475626e+09  2016-10-05\n",
            "3  06-10-2016  2160.770020    0.048133       1  1.475712e+09  2016-10-06\n",
            "4  07-10-2016  2153.739990   -0.326410       0  1.475798e+09  2016-10-07\n"
          ],
          "name": "stdout"
        }
      ]
    },
    {
      "cell_type": "markdown",
      "metadata": {
        "id": "SI2hp1Vcj3y2",
        "colab_type": "text"
      },
      "source": [
        "Now it looks like we have correctly made the new date variable. We will use this to merge the different dataframes together, so we can look at Donald Trump's tweets on a given day, and compare it to how the markets reacted that day.\n",
        "\n",
        "To do this, we have to keep in mind, that Trump has multiple tweets on a normal day, and also that the 3 markets have different bank days.\n",
        "\n",
        "Thus we have to use another loop to merge the dataframes together."
      ]
    },
    {
      "cell_type": "markdown",
      "metadata": {
        "id": "R5u84KE6l_Np",
        "colab_type": "text"
      },
      "source": [
        "#Exploratory data analysis using visualizations\n",
        "From the stakeholder report, we formulated a problem:\n",
        "*How does the markets react to Donald Trumps tweets?*\n",
        "\n",
        "To answer this we first try to use some exploratory data analysis by visualizing the market changes over time, and compare this to Trump's trade war related tweets.\n",
        "\n",
        "We define Trump's trade war related tweets by looking at his most used words, where we have created a list of those that are often associated with trade war.\n",
        "\n",
        "\n",
        "From this list we form a new boolean variable, trade_war, which we will plot together with the stock indexes, hoping to see a correlation between trade war related tweets, and hanges in the stock markets."
      ]
    },
    {
      "cell_type": "code",
      "metadata": {
        "id": "jK9fM0_8Viwd",
        "colab_type": "code",
        "outputId": "9ea307bc-3c08-4a18-e937-798f1c46b1c9",
        "colab": {
          "base_uri": "https://localhost:8080/",
          "height": 182
        }
      },
      "source": [
        "b=[]\n",
        "b.append(min(tweets.dato))\n",
        "b.append(min(usa.dato))\n",
        "b.append(min(dax.dato))\n",
        "b.append(min(china.dato))\n",
        "c=[]\n",
        "c.append(max(tweets.dato))\n",
        "c.append(max(usa.dato))\n",
        "c.append(max(dax.dato))\n",
        "c.append(max(china.dato))\n",
        "\n",
        "df =  pd.DataFrame()\n",
        "df['earliest'] = b\n",
        "df['latest'] = c\n",
        "d = max(df['earliest'])\n",
        "e = min(df['latest'])\n",
        "print(d, e)\n",
        "df.head()"
      ],
      "execution_count": 0,
      "outputs": [
        {
          "output_type": "stream",
          "text": [
            "2016-10-11 2019-10-18\n"
          ],
          "name": "stdout"
        },
        {
          "output_type": "execute_result",
          "data": {
            "text/html": [
              "<div>\n",
              "<style scoped>\n",
              "    .dataframe tbody tr th:only-of-type {\n",
              "        vertical-align: middle;\n",
              "    }\n",
              "\n",
              "    .dataframe tbody tr th {\n",
              "        vertical-align: top;\n",
              "    }\n",
              "\n",
              "    .dataframe thead th {\n",
              "        text-align: right;\n",
              "    }\n",
              "</style>\n",
              "<table border=\"1\" class=\"dataframe\">\n",
              "  <thead>\n",
              "    <tr style=\"text-align: right;\">\n",
              "      <th></th>\n",
              "      <th>earliest</th>\n",
              "      <th>latest</th>\n",
              "    </tr>\n",
              "  </thead>\n",
              "  <tbody>\n",
              "    <tr>\n",
              "      <th>0</th>\n",
              "      <td>2016-09-30</td>\n",
              "      <td>2019-10-18</td>\n",
              "    </tr>\n",
              "    <tr>\n",
              "      <th>1</th>\n",
              "      <td>2016-10-03</td>\n",
              "      <td>2019-10-18</td>\n",
              "    </tr>\n",
              "    <tr>\n",
              "      <th>2</th>\n",
              "      <td>2016-10-05</td>\n",
              "      <td>2019-10-18</td>\n",
              "    </tr>\n",
              "    <tr>\n",
              "      <th>3</th>\n",
              "      <td>2016-10-11</td>\n",
              "      <td>2019-10-18</td>\n",
              "    </tr>\n",
              "  </tbody>\n",
              "</table>\n",
              "</div>"
            ],
            "text/plain": [
              "     earliest      latest\n",
              "0  2016-09-30  2019-10-18\n",
              "1  2016-10-03  2019-10-18\n",
              "2  2016-10-05  2019-10-18\n",
              "3  2016-10-11  2019-10-18"
            ]
          },
          "metadata": {
            "tags": []
          },
          "execution_count": 13
        }
      ]
    },
    {
      "cell_type": "code",
      "metadata": {
        "id": "ZaiE9V9VVqIU",
        "colab_type": "code",
        "outputId": "97e3b160-b924-4c79-be23-110c71cc1ee7",
        "colab": {
          "base_uri": "https://localhost:8080/",
          "height": 212
        }
      },
      "source": [
        "df =  pd.DataFrame()\n",
        "df['datot'] = pd.date_range(start=d, end=e)\n",
        "df['dato'] = 0\n",
        "a = len(df)\n",
        "b = 0\n",
        "while b < a:\n",
        "  df.iloc[b,1] = dt.datetime.date(df.iloc[b,0])\n",
        "  b += 1\n",
        "df = df.drop('datot', axis=1)\n",
        "print(len(df))\n",
        "df.head()"
      ],
      "execution_count": 0,
      "outputs": [
        {
          "output_type": "stream",
          "text": [
            "1103\n"
          ],
          "name": "stdout"
        },
        {
          "output_type": "execute_result",
          "data": {
            "text/html": [
              "<div>\n",
              "<style scoped>\n",
              "    .dataframe tbody tr th:only-of-type {\n",
              "        vertical-align: middle;\n",
              "    }\n",
              "\n",
              "    .dataframe tbody tr th {\n",
              "        vertical-align: top;\n",
              "    }\n",
              "\n",
              "    .dataframe thead th {\n",
              "        text-align: right;\n",
              "    }\n",
              "</style>\n",
              "<table border=\"1\" class=\"dataframe\">\n",
              "  <thead>\n",
              "    <tr style=\"text-align: right;\">\n",
              "      <th></th>\n",
              "      <th>dato</th>\n",
              "    </tr>\n",
              "  </thead>\n",
              "  <tbody>\n",
              "    <tr>\n",
              "      <th>0</th>\n",
              "      <td>2016-10-11</td>\n",
              "    </tr>\n",
              "    <tr>\n",
              "      <th>1</th>\n",
              "      <td>2016-10-12</td>\n",
              "    </tr>\n",
              "    <tr>\n",
              "      <th>2</th>\n",
              "      <td>2016-10-13</td>\n",
              "    </tr>\n",
              "    <tr>\n",
              "      <th>3</th>\n",
              "      <td>2016-10-14</td>\n",
              "    </tr>\n",
              "    <tr>\n",
              "      <th>4</th>\n",
              "      <td>2016-10-15</td>\n",
              "    </tr>\n",
              "  </tbody>\n",
              "</table>\n",
              "</div>"
            ],
            "text/plain": [
              "         dato\n",
              "0  2016-10-11\n",
              "1  2016-10-12\n",
              "2  2016-10-13\n",
              "3  2016-10-14\n",
              "4  2016-10-15"
            ]
          },
          "metadata": {
            "tags": []
          },
          "execution_count": 14
        }
      ]
    },
    {
      "cell_type": "code",
      "metadata": {
        "id": "iXnM92Q-Vsgu",
        "colab_type": "code",
        "colab": {}
      },
      "source": [
        "df1 =  pd.DataFrame()\n",
        "df2 =  pd.DataFrame()\n",
        "df3 =  pd.DataFrame()\n",
        "df4 =  pd.DataFrame()"
      ],
      "execution_count": 0,
      "outputs": []
    },
    {
      "cell_type": "code",
      "metadata": {
        "id": "UpeFzfDbVvI9",
        "colab_type": "code",
        "colab": {}
      },
      "source": [
        "df1 = tweets[(tweets['dato'] >= d) & (tweets['dato'] <= e)]\n",
        "df2 = usa[(usa['dato'] >= d) & (usa['dato'] <= e)]\n",
        "df3 = dax[(dax['dato'] >= d) & (dax['dato'] <= e)]\n",
        "df4 = china[(china['dato'] >= d) & (china['dato'] <= e)]"
      ],
      "execution_count": 0,
      "outputs": []
    },
    {
      "cell_type": "code",
      "metadata": {
        "id": "mLE6fQ4vVw0g",
        "colab_type": "code",
        "outputId": "90ec073d-2ed3-4d66-a042-8afcbba0c46c",
        "colab": {
          "base_uri": "https://localhost:8080/",
          "height": 195
        }
      },
      "source": [
        "df['tweetraw'] = ''\n",
        "df.head()"
      ],
      "execution_count": 0,
      "outputs": [
        {
          "output_type": "execute_result",
          "data": {
            "text/html": [
              "<div>\n",
              "<style scoped>\n",
              "    .dataframe tbody tr th:only-of-type {\n",
              "        vertical-align: middle;\n",
              "    }\n",
              "\n",
              "    .dataframe tbody tr th {\n",
              "        vertical-align: top;\n",
              "    }\n",
              "\n",
              "    .dataframe thead th {\n",
              "        text-align: right;\n",
              "    }\n",
              "</style>\n",
              "<table border=\"1\" class=\"dataframe\">\n",
              "  <thead>\n",
              "    <tr style=\"text-align: right;\">\n",
              "      <th></th>\n",
              "      <th>dato</th>\n",
              "      <th>tweetraw</th>\n",
              "    </tr>\n",
              "  </thead>\n",
              "  <tbody>\n",
              "    <tr>\n",
              "      <th>0</th>\n",
              "      <td>2016-10-11</td>\n",
              "      <td></td>\n",
              "    </tr>\n",
              "    <tr>\n",
              "      <th>1</th>\n",
              "      <td>2016-10-12</td>\n",
              "      <td></td>\n",
              "    </tr>\n",
              "    <tr>\n",
              "      <th>2</th>\n",
              "      <td>2016-10-13</td>\n",
              "      <td></td>\n",
              "    </tr>\n",
              "    <tr>\n",
              "      <th>3</th>\n",
              "      <td>2016-10-14</td>\n",
              "      <td></td>\n",
              "    </tr>\n",
              "    <tr>\n",
              "      <th>4</th>\n",
              "      <td>2016-10-15</td>\n",
              "      <td></td>\n",
              "    </tr>\n",
              "  </tbody>\n",
              "</table>\n",
              "</div>"
            ],
            "text/plain": [
              "         dato tweetraw\n",
              "0  2016-10-11         \n",
              "1  2016-10-12         \n",
              "2  2016-10-13         \n",
              "3  2016-10-14         \n",
              "4  2016-10-15         "
            ]
          },
          "metadata": {
            "tags": []
          },
          "execution_count": 17
        }
      ]
    },
    {
      "cell_type": "code",
      "metadata": {
        "id": "fMIeulsGVz40",
        "colab_type": "code",
        "colab": {}
      },
      "source": [
        "count = 0 \n",
        "stopat = len(df)\n",
        "liste = []\n",
        "while count < stopat:\n",
        "  a = df.loc[count].dato\n",
        "  b = df1[df1['dato'] == a]\n",
        "  c = 0\n",
        "  d = len(b)\n",
        "  e = ''\n",
        "  while c < d:\n",
        "    e += ' ' + b.iloc[c,1]\n",
        "    c += 1  \n",
        "  liste.append(e)\n",
        "  count +=1"
      ],
      "execution_count": 0,
      "outputs": []
    },
    {
      "cell_type": "code",
      "metadata": {
        "id": "wakqYoCgV0dQ",
        "colab_type": "code",
        "outputId": "19fab0ff-0931-4bdf-d4f2-4397aee1ad53",
        "colab": {
          "base_uri": "https://localhost:8080/",
          "height": 1000
        }
      },
      "source": [
        "df.tweetraw = liste\n",
        "\n",
        "df = df.merge(df2, left_on='dato', right_on='dato')\n",
        "df = df.merge(df3, left_on='dato', right_on='dato')\n",
        "df = df.merge(df4, left_on='dato', right_on='dato')\n",
        "\n",
        "df.head(15)"
      ],
      "execution_count": 0,
      "outputs": [
        {
          "output_type": "execute_result",
          "data": {
            "text/html": [
              "<div>\n",
              "<style scoped>\n",
              "    .dataframe tbody tr th:only-of-type {\n",
              "        vertical-align: middle;\n",
              "    }\n",
              "\n",
              "    .dataframe tbody tr th {\n",
              "        vertical-align: top;\n",
              "    }\n",
              "\n",
              "    .dataframe thead th {\n",
              "        text-align: right;\n",
              "    }\n",
              "</style>\n",
              "<table border=\"1\" class=\"dataframe\">\n",
              "  <thead>\n",
              "    <tr style=\"text-align: right;\">\n",
              "      <th></th>\n",
              "      <th>dato</th>\n",
              "      <th>tweetraw</th>\n",
              "      <th>Date_x</th>\n",
              "      <th>usa_close</th>\n",
              "      <th>usa_return</th>\n",
              "      <th>usa_op</th>\n",
              "      <th>timeline_x</th>\n",
              "      <th>Date_y</th>\n",
              "      <th>dax_close</th>\n",
              "      <th>dax_return</th>\n",
              "      <th>dax_op</th>\n",
              "      <th>timeline_y</th>\n",
              "      <th>Date</th>\n",
              "      <th>china_close</th>\n",
              "      <th>china_return</th>\n",
              "      <th>china_op</th>\n",
              "      <th>timeline</th>\n",
              "    </tr>\n",
              "  </thead>\n",
              "  <tbody>\n",
              "    <tr>\n",
              "      <th>0</th>\n",
              "      <td>2016-10-11</td>\n",
              "      <td>Wow @CNN Town Hall questions were given to Cr...</td>\n",
              "      <td>11-10-2016</td>\n",
              "      <td>2136.729980</td>\n",
              "      <td>-1.260334</td>\n",
              "      <td>0</td>\n",
              "      <td>1.476144e+09</td>\n",
              "      <td>11-10-2016</td>\n",
              "      <td>10577.16016</td>\n",
              "      <td>-0.443597</td>\n",
              "      <td>0</td>\n",
              "      <td>1.476144e+09</td>\n",
              "      <td>11-10-2016</td>\n",
              "      <td>3065.250000</td>\n",
              "      <td>0.558093</td>\n",
              "      <td>1</td>\n",
              "      <td>1.476144e+09</td>\n",
              "    </tr>\n",
              "    <tr>\n",
              "      <th>1</th>\n",
              "      <td>2016-10-12</td>\n",
              "      <td>I will be in Cincinnati Ohio tomorrow night a...</td>\n",
              "      <td>12-10-2016</td>\n",
              "      <td>2139.179932</td>\n",
              "      <td>0.114528</td>\n",
              "      <td>1</td>\n",
              "      <td>1.476230e+09</td>\n",
              "      <td>12-10-2016</td>\n",
              "      <td>10523.07031</td>\n",
              "      <td>-0.514012</td>\n",
              "      <td>0</td>\n",
              "      <td>1.476230e+09</td>\n",
              "      <td>12-10-2016</td>\n",
              "      <td>3058.498047</td>\n",
              "      <td>-0.220760</td>\n",
              "      <td>0</td>\n",
              "      <td>1.476230e+09</td>\n",
              "    </tr>\n",
              "    <tr>\n",
              "      <th>2</th>\n",
              "      <td>2016-10-13</td>\n",
              "      <td>Join me live in Cincinnati Ohio!#TrumpRally #...</td>\n",
              "      <td>13-10-2016</td>\n",
              "      <td>2132.550049</td>\n",
              "      <td>-0.310890</td>\n",
              "      <td>0</td>\n",
              "      <td>1.476317e+09</td>\n",
              "      <td>13-10-2016</td>\n",
              "      <td>10414.07031</td>\n",
              "      <td>-1.046661</td>\n",
              "      <td>0</td>\n",
              "      <td>1.476317e+09</td>\n",
              "      <td>13-10-2016</td>\n",
              "      <td>3061.345947</td>\n",
              "      <td>0.093028</td>\n",
              "      <td>1</td>\n",
              "      <td>1.476317e+09</td>\n",
              "    </tr>\n",
              "    <tr>\n",
              "      <th>3</th>\n",
              "      <td>2016-10-14</td>\n",
              "      <td>Make sure you're registered to vote! Let's #M...</td>\n",
              "      <td>14-10-2016</td>\n",
              "      <td>2132.979980</td>\n",
              "      <td>0.020156</td>\n",
              "      <td>1</td>\n",
              "      <td>1.476403e+09</td>\n",
              "      <td>14-10-2016</td>\n",
              "      <td>10580.37988</td>\n",
              "      <td>1.571868</td>\n",
              "      <td>1</td>\n",
              "      <td>1.476403e+09</td>\n",
              "      <td>14-10-2016</td>\n",
              "      <td>3063.809082</td>\n",
              "      <td>0.080395</td>\n",
              "      <td>1</td>\n",
              "      <td>1.476403e+09</td>\n",
              "    </tr>\n",
              "    <tr>\n",
              "      <th>4</th>\n",
              "      <td>2016-10-17</td>\n",
              "      <td>Get rich quick! Crooked Hillary Clinton's pay...</td>\n",
              "      <td>17-10-2016</td>\n",
              "      <td>2126.500000</td>\n",
              "      <td>-0.304725</td>\n",
              "      <td>0</td>\n",
              "      <td>1.476662e+09</td>\n",
              "      <td>17-10-2016</td>\n",
              "      <td>10503.57031</td>\n",
              "      <td>-0.731271</td>\n",
              "      <td>0</td>\n",
              "      <td>1.476662e+09</td>\n",
              "      <td>17-10-2016</td>\n",
              "      <td>3041.166016</td>\n",
              "      <td>-0.744552</td>\n",
              "      <td>0</td>\n",
              "      <td>1.476662e+09</td>\n",
              "    </tr>\n",
              "    <tr>\n",
              "      <th>5</th>\n",
              "      <td>2016-10-18</td>\n",
              "      <td>'Trump rally disrupter was once on Clinton's ...</td>\n",
              "      <td>18-10-2016</td>\n",
              "      <td>2139.600098</td>\n",
              "      <td>0.612269</td>\n",
              "      <td>1</td>\n",
              "      <td>1.476749e+09</td>\n",
              "      <td>18-10-2016</td>\n",
              "      <td>10631.54981</td>\n",
              "      <td>1.203771</td>\n",
              "      <td>1</td>\n",
              "      <td>1.476749e+09</td>\n",
              "      <td>18-10-2016</td>\n",
              "      <td>3083.875000</td>\n",
              "      <td>1.384913</td>\n",
              "      <td>1</td>\n",
              "      <td>1.476749e+09</td>\n",
              "    </tr>\n",
              "    <tr>\n",
              "      <th>6</th>\n",
              "      <td>2016-10-19</td>\n",
              "      <td>UNBELIEVABLE!Clinton campaign contractor caug...</td>\n",
              "      <td>19-10-2016</td>\n",
              "      <td>2144.290039</td>\n",
              "      <td>0.218718</td>\n",
              "      <td>1</td>\n",
              "      <td>1.476835e+09</td>\n",
              "      <td>19-10-2016</td>\n",
              "      <td>10645.67969</td>\n",
              "      <td>0.132729</td>\n",
              "      <td>1</td>\n",
              "      <td>1.476835e+09</td>\n",
              "      <td>19-10-2016</td>\n",
              "      <td>3084.718994</td>\n",
              "      <td>0.027360</td>\n",
              "      <td>1</td>\n",
              "      <td>1.476835e+09</td>\n",
              "    </tr>\n",
              "    <tr>\n",
              "      <th>7</th>\n",
              "      <td>2016-10-20</td>\n",
              "      <td>Hillary &amp;amp; Obama's Broken Promises. #Repea...</td>\n",
              "      <td>20-10-2016</td>\n",
              "      <td>2141.340088</td>\n",
              "      <td>-0.137762</td>\n",
              "      <td>0</td>\n",
              "      <td>1.476922e+09</td>\n",
              "      <td>20-10-2016</td>\n",
              "      <td>10701.38965</td>\n",
              "      <td>0.520586</td>\n",
              "      <td>1</td>\n",
              "      <td>1.476922e+09</td>\n",
              "      <td>20-10-2016</td>\n",
              "      <td>3084.458008</td>\n",
              "      <td>-0.008461</td>\n",
              "      <td>0</td>\n",
              "      <td>1.476922e+09</td>\n",
              "    </tr>\n",
              "    <tr>\n",
              "      <th>8</th>\n",
              "      <td>2016-10-21</td>\n",
              "      <td>#CrookedHillary sending U.S. intelligence inf...</td>\n",
              "      <td>21-10-2016</td>\n",
              "      <td>2141.159912</td>\n",
              "      <td>-0.008415</td>\n",
              "      <td>0</td>\n",
              "      <td>1.477008e+09</td>\n",
              "      <td>21-10-2016</td>\n",
              "      <td>10710.73047</td>\n",
              "      <td>0.087210</td>\n",
              "      <td>1</td>\n",
              "      <td>1.477008e+09</td>\n",
              "      <td>21-10-2016</td>\n",
              "      <td>3090.940918</td>\n",
              "      <td>0.209739</td>\n",
              "      <td>1</td>\n",
              "      <td>1.477008e+09</td>\n",
              "    </tr>\n",
              "    <tr>\n",
              "      <th>9</th>\n",
              "      <td>2016-10-24</td>\n",
              "      <td>Peter Navarro: 'Trump the Bull vs. Clinton th...</td>\n",
              "      <td>24-10-2016</td>\n",
              "      <td>2151.330078</td>\n",
              "      <td>0.472739</td>\n",
              "      <td>1</td>\n",
              "      <td>1.477267e+09</td>\n",
              "      <td>24-10-2016</td>\n",
              "      <td>10761.16992</td>\n",
              "      <td>0.468717</td>\n",
              "      <td>1</td>\n",
              "      <td>1.477267e+09</td>\n",
              "      <td>24-10-2016</td>\n",
              "      <td>3128.247070</td>\n",
              "      <td>1.192558</td>\n",
              "      <td>1</td>\n",
              "      <td>1.477267e+09</td>\n",
              "    </tr>\n",
              "    <tr>\n",
              "      <th>10</th>\n",
              "      <td>2016-10-25</td>\n",
              "      <td>Thank you Tallahassee Florida! A beautiful ev...</td>\n",
              "      <td>25-10-2016</td>\n",
              "      <td>2143.159912</td>\n",
              "      <td>-0.381221</td>\n",
              "      <td>0</td>\n",
              "      <td>1.477354e+09</td>\n",
              "      <td>25-10-2016</td>\n",
              "      <td>10757.30957</td>\n",
              "      <td>-0.035886</td>\n",
              "      <td>0</td>\n",
              "      <td>1.477354e+09</td>\n",
              "      <td>25-10-2016</td>\n",
              "      <td>3131.938965</td>\n",
              "      <td>0.117879</td>\n",
              "      <td>1</td>\n",
              "      <td>1.477354e+09</td>\n",
              "    </tr>\n",
              "    <tr>\n",
              "      <th>11</th>\n",
              "      <td>2016-10-26</td>\n",
              "      <td>Hillary said she was under sniper fire (while...</td>\n",
              "      <td>26-10-2016</td>\n",
              "      <td>2139.429932</td>\n",
              "      <td>-0.174345</td>\n",
              "      <td>0</td>\n",
              "      <td>1.477440e+09</td>\n",
              "      <td>26-10-2016</td>\n",
              "      <td>10709.67969</td>\n",
              "      <td>-0.444737</td>\n",
              "      <td>0</td>\n",
              "      <td>1.477440e+09</td>\n",
              "      <td>26-10-2016</td>\n",
              "      <td>3116.312012</td>\n",
              "      <td>-0.501457</td>\n",
              "      <td>0</td>\n",
              "      <td>1.477440e+09</td>\n",
              "    </tr>\n",
              "    <tr>\n",
              "      <th>12</th>\n",
              "      <td>2016-10-27</td>\n",
              "      <td>Crooked Hillary launched her political career...</td>\n",
              "      <td>27-10-2016</td>\n",
              "      <td>2133.040039</td>\n",
              "      <td>-0.299567</td>\n",
              "      <td>0</td>\n",
              "      <td>1.477526e+09</td>\n",
              "      <td>27-10-2016</td>\n",
              "      <td>10717.08008</td>\n",
              "      <td>0.069052</td>\n",
              "      <td>1</td>\n",
              "      <td>1.477526e+09</td>\n",
              "      <td>27-10-2016</td>\n",
              "      <td>3112.350098</td>\n",
              "      <td>-0.127297</td>\n",
              "      <td>0</td>\n",
              "      <td>1.477526e+09</td>\n",
              "    </tr>\n",
              "    <tr>\n",
              "      <th>13</th>\n",
              "      <td>2016-10-28</td>\n",
              "      <td>@piersmorgan: BOMBSHELL: FBI reopening its in...</td>\n",
              "      <td>28-10-2016</td>\n",
              "      <td>2126.409912</td>\n",
              "      <td>-0.311799</td>\n",
              "      <td>0</td>\n",
              "      <td>1.477613e+09</td>\n",
              "      <td>28-10-2016</td>\n",
              "      <td>10696.19043</td>\n",
              "      <td>-0.195300</td>\n",
              "      <td>0</td>\n",
              "      <td>1.477613e+09</td>\n",
              "      <td>28-10-2016</td>\n",
              "      <td>3104.270020</td>\n",
              "      <td>-0.260289</td>\n",
              "      <td>0</td>\n",
              "      <td>1.477613e+09</td>\n",
              "    </tr>\n",
              "    <tr>\n",
              "      <th>14</th>\n",
              "      <td>2016-10-31</td>\n",
              "      <td>Wow! I hear you Warren Michigan. Streaming li...</td>\n",
              "      <td>31-10-2016</td>\n",
              "      <td>2126.149902</td>\n",
              "      <td>-0.012229</td>\n",
              "      <td>0</td>\n",
              "      <td>1.477872e+09</td>\n",
              "      <td>31-10-2016</td>\n",
              "      <td>10665.00977</td>\n",
              "      <td>-0.292364</td>\n",
              "      <td>0</td>\n",
              "      <td>1.477872e+09</td>\n",
              "      <td>31-10-2016</td>\n",
              "      <td>3100.491943</td>\n",
              "      <td>-0.121854</td>\n",
              "      <td>0</td>\n",
              "      <td>1.477872e+09</td>\n",
              "    </tr>\n",
              "  </tbody>\n",
              "</table>\n",
              "</div>"
            ],
            "text/plain": [
              "          dato  ...      timeline\n",
              "0   2016-10-11  ...  1.476144e+09\n",
              "1   2016-10-12  ...  1.476230e+09\n",
              "2   2016-10-13  ...  1.476317e+09\n",
              "3   2016-10-14  ...  1.476403e+09\n",
              "4   2016-10-17  ...  1.476662e+09\n",
              "5   2016-10-18  ...  1.476749e+09\n",
              "6   2016-10-19  ...  1.476835e+09\n",
              "7   2016-10-20  ...  1.476922e+09\n",
              "8   2016-10-21  ...  1.477008e+09\n",
              "9   2016-10-24  ...  1.477267e+09\n",
              "10  2016-10-25  ...  1.477354e+09\n",
              "11  2016-10-26  ...  1.477440e+09\n",
              "12  2016-10-27  ...  1.477526e+09\n",
              "13  2016-10-28  ...  1.477613e+09\n",
              "14  2016-10-31  ...  1.477872e+09\n",
              "\n",
              "[15 rows x 17 columns]"
            ]
          },
          "metadata": {
            "tags": []
          },
          "execution_count": 19
        }
      ]
    },
    {
      "cell_type": "code",
      "metadata": {
        "id": "8evaSR13V2X0",
        "colab_type": "code",
        "colab": {}
      },
      "source": [
        ""
      ],
      "execution_count": 0,
      "outputs": []
    },
    {
      "cell_type": "code",
      "metadata": {
        "id": "aUNHgwSTjkRk",
        "colab_type": "code",
        "colab": {}
      },
      "source": [
        "df[\"trade_war\"] = df[\"tweetraw\"].str.contains(\"tarif|china|eu|union|steel|trade|trading|import|export|money|unemploy|commerce|mercant|deal|business|barter|merch|arbitrage|advantage|stock|brexit\", na=False)"
      ],
      "execution_count": 0,
      "outputs": []
    },
    {
      "cell_type": "code",
      "metadata": {
        "id": "hu7CthGtk9pb",
        "colab_type": "code",
        "outputId": "8bd39d10-403b-4efa-934b-dca366887d58",
        "colab": {
          "base_uri": "https://localhost:8080/",
          "height": 403
        }
      },
      "source": [
        "df.info()"
      ],
      "execution_count": 0,
      "outputs": [
        {
          "output_type": "stream",
          "text": [
            "<class 'pandas.core.frame.DataFrame'>\n",
            "Int64Index: 703 entries, 0 to 702\n",
            "Data columns (total 18 columns):\n",
            "dato            703 non-null object\n",
            "tweetraw        703 non-null object\n",
            "Date_x          703 non-null object\n",
            "usa_close       703 non-null float64\n",
            "usa_return      703 non-null float64\n",
            "usa_op          703 non-null int64\n",
            "timeline_x      703 non-null float64\n",
            "Date_y          703 non-null object\n",
            "dax_close       703 non-null float64\n",
            "dax_return      703 non-null float64\n",
            "dax_op          703 non-null int64\n",
            "timeline_y      703 non-null float64\n",
            "Date            703 non-null object\n",
            "china_close     703 non-null float64\n",
            "china_return    703 non-null float64\n",
            "china_op        703 non-null int64\n",
            "timeline        703 non-null float64\n",
            "trade_war       703 non-null bool\n",
            "dtypes: bool(1), float64(9), int64(3), object(5)\n",
            "memory usage: 99.5+ KB\n"
          ],
          "name": "stdout"
        }
      ]
    },
    {
      "cell_type": "code",
      "metadata": {
        "id": "IAdSWjt8nV8e",
        "colab_type": "code",
        "outputId": "a218cc41-397e-4b70-cc1f-3ed82d811fba",
        "colab": {
          "base_uri": "https://localhost:8080/",
          "height": 67
        }
      },
      "source": [
        "df['trade_war'].value_counts()"
      ],
      "execution_count": 0,
      "outputs": [
        {
          "output_type": "execute_result",
          "data": {
            "text/plain": [
              "True     363\n",
              "False    340\n",
              "Name: trade_war, dtype: int64"
            ]
          },
          "metadata": {
            "tags": []
          },
          "execution_count": 22
        }
      ]
    },
    {
      "cell_type": "code",
      "metadata": {
        "id": "3Fjzcaei7VN4",
        "colab_type": "code",
        "colab": {}
      },
      "source": [
        "new_tweets = df.drop(['Date_x','timeline_x','Date_y','timeline_y','Date','timeline'], axis=1)"
      ],
      "execution_count": 0,
      "outputs": []
    },
    {
      "cell_type": "code",
      "metadata": {
        "id": "ya4_gA-fc5jh",
        "colab_type": "code",
        "colab": {}
      },
      "source": [
        "new_tweets.to_csv('new_merge.csv')"
      ],
      "execution_count": 0,
      "outputs": []
    },
    {
      "cell_type": "code",
      "metadata": {
        "id": "E7alnxQ0ARdB",
        "colab_type": "code",
        "colab": {}
      },
      "source": [
        "new_tweets.dropna(axis='columns')\n",
        "new_tweets2 = new_tweets[new_tweets['trade_war']==True]"
      ],
      "execution_count": 0,
      "outputs": []
    },
    {
      "cell_type": "code",
      "metadata": {
        "id": "rV7YnylaG0Nf",
        "colab_type": "code",
        "outputId": "b6618237-11cc-4592-c833-024e01042c5f",
        "colab": {
          "base_uri": "https://localhost:8080/",
          "height": 195
        }
      },
      "source": [
        "new_tweets2.head()"
      ],
      "execution_count": 0,
      "outputs": [
        {
          "output_type": "execute_result",
          "data": {
            "text/html": [
              "<div>\n",
              "<style scoped>\n",
              "    .dataframe tbody tr th:only-of-type {\n",
              "        vertical-align: middle;\n",
              "    }\n",
              "\n",
              "    .dataframe tbody tr th {\n",
              "        vertical-align: top;\n",
              "    }\n",
              "\n",
              "    .dataframe thead th {\n",
              "        text-align: right;\n",
              "    }\n",
              "</style>\n",
              "<table border=\"1\" class=\"dataframe\">\n",
              "  <thead>\n",
              "    <tr style=\"text-align: right;\">\n",
              "      <th></th>\n",
              "      <th>dato</th>\n",
              "      <th>tweetraw</th>\n",
              "      <th>usa_close</th>\n",
              "      <th>usa_return</th>\n",
              "      <th>usa_op</th>\n",
              "      <th>dax_close</th>\n",
              "      <th>dax_return</th>\n",
              "      <th>dax_op</th>\n",
              "      <th>china_close</th>\n",
              "      <th>china_return</th>\n",
              "      <th>china_op</th>\n",
              "      <th>trade_war</th>\n",
              "    </tr>\n",
              "  </thead>\n",
              "  <tbody>\n",
              "    <tr>\n",
              "      <th>7</th>\n",
              "      <td>2016-10-20</td>\n",
              "      <td>Hillary &amp;amp; Obama's Broken Promises. #Repea...</td>\n",
              "      <td>2141.340088</td>\n",
              "      <td>-0.137762</td>\n",
              "      <td>0</td>\n",
              "      <td>10701.38965</td>\n",
              "      <td>0.520586</td>\n",
              "      <td>1</td>\n",
              "      <td>3084.458008</td>\n",
              "      <td>-0.008461</td>\n",
              "      <td>0</td>\n",
              "      <td>True</td>\n",
              "    </tr>\n",
              "    <tr>\n",
              "      <th>15</th>\n",
              "      <td>2016-11-01</td>\n",
              "      <td>RT @DanScavino: Join @realDonaldTrump LIVE in...</td>\n",
              "      <td>2111.719971</td>\n",
              "      <td>-0.683326</td>\n",
              "      <td>0</td>\n",
              "      <td>10526.16016</td>\n",
              "      <td>-1.319091</td>\n",
              "      <td>0</td>\n",
              "      <td>3122.436035</td>\n",
              "      <td>0.702788</td>\n",
              "      <td>1</td>\n",
              "      <td>True</td>\n",
              "    </tr>\n",
              "    <tr>\n",
              "      <th>21</th>\n",
              "      <td>2016-11-09</td>\n",
              "      <td>Such a beautiful and important evening! The f...</td>\n",
              "      <td>2163.260010</td>\n",
              "      <td>1.095566</td>\n",
              "      <td>1</td>\n",
              "      <td>10646.00977</td>\n",
              "      <td>1.537566</td>\n",
              "      <td>1</td>\n",
              "      <td>3128.370117</td>\n",
              "      <td>-0.623897</td>\n",
              "      <td>0</td>\n",
              "      <td>True</td>\n",
              "    </tr>\n",
              "    <tr>\n",
              "      <th>23</th>\n",
              "      <td>2016-11-11</td>\n",
              "      <td>Today we express our deepest gratitude to all...</td>\n",
              "      <td>2164.449951</td>\n",
              "      <td>-0.139991</td>\n",
              "      <td>0</td>\n",
              "      <td>10667.95020</td>\n",
              "      <td>0.354614</td>\n",
              "      <td>1</td>\n",
              "      <td>3196.043945</td>\n",
              "      <td>0.774769</td>\n",
              "      <td>1</td>\n",
              "      <td>True</td>\n",
              "    </tr>\n",
              "    <tr>\n",
              "      <th>30</th>\n",
              "      <td>2016-11-22</td>\n",
              "      <td>I am seriously considering Dr. Ben Carson as ...</td>\n",
              "      <td>2202.939941</td>\n",
              "      <td>0.216075</td>\n",
              "      <td>1</td>\n",
              "      <td>10713.84961</td>\n",
              "      <td>0.268062</td>\n",
              "      <td>1</td>\n",
              "      <td>3248.352051</td>\n",
              "      <td>0.929828</td>\n",
              "      <td>1</td>\n",
              "      <td>True</td>\n",
              "    </tr>\n",
              "  </tbody>\n",
              "</table>\n",
              "</div>"
            ],
            "text/plain": [
              "          dato  ... trade_war\n",
              "7   2016-10-20  ...      True\n",
              "15  2016-11-01  ...      True\n",
              "21  2016-11-09  ...      True\n",
              "23  2016-11-11  ...      True\n",
              "30  2016-11-22  ...      True\n",
              "\n",
              "[5 rows x 12 columns]"
            ]
          },
          "metadata": {
            "tags": []
          },
          "execution_count": 29
        }
      ]
    },
    {
      "cell_type": "code",
      "metadata": {
        "id": "X0GdhNrhHswX",
        "colab_type": "code",
        "outputId": "78a01a8b-e76d-40aa-e9d6-830038d21c10",
        "colab": {
          "base_uri": "https://localhost:8080/",
          "height": 50
        }
      },
      "source": [
        "new_tweets2['trade_war'].value_counts()"
      ],
      "execution_count": 0,
      "outputs": [
        {
          "output_type": "execute_result",
          "data": {
            "text/plain": [
              "True    363\n",
              "Name: trade_war, dtype: int64"
            ]
          },
          "metadata": {
            "tags": []
          },
          "execution_count": 30
        }
      ]
    },
    {
      "cell_type": "markdown",
      "metadata": {
        "id": "19LwCqj2nH8p",
        "colab_type": "text"
      },
      "source": [
        "Now that we have generated our new variable, it seems like we have a total of 1074 tweets, that are trade war related."
      ]
    },
    {
      "cell_type": "markdown",
      "metadata": {
        "id": "KuCL3j4ynhh7",
        "colab_type": "text"
      },
      "source": [
        "We can now begin to visualize the indexes and compare them to Trump's tweets.\n",
        "\n",
        "We first look at DAX:"
      ]
    },
    {
      "cell_type": "code",
      "metadata": {
        "id": "JnY-aRb2mMBW",
        "colab_type": "code",
        "outputId": "561e3f59-ea94-4a08-b3f3-773683164702",
        "colab": {
          "base_uri": "https://localhost:8080/",
          "height": 621
        }
      },
      "source": [
        "import matplotlib.pyplot as plt   # Import matplotlib\n",
        "# This line is necessary for the plot to appear in a Jupyter notebook\n",
        "%matplotlib inline\n",
        "# Control the default size of figures in this Jupyter notebook\n",
        "%pylab inline\n",
        "pylab.rcParams['figure.figsize'] = (15, 9)   # Change the size of plots\n",
        " \n",
        "dax[\"dax_close\"].plot(grid = True) # Plot the adjusted closing price of index"
      ],
      "execution_count": 0,
      "outputs": [
        {
          "output_type": "stream",
          "text": [
            "Populating the interactive namespace from numpy and matplotlib\n"
          ],
          "name": "stdout"
        },
        {
          "output_type": "stream",
          "text": [
            "/usr/local/lib/python3.6/dist-packages/IPython/core/magics/pylab.py:161: UserWarning: pylab import has clobbered these variables: ['e']\n",
            "`%matplotlib` prevents importing * from pylab and numpy\n",
            "  \"\\n`%matplotlib` prevents importing * from pylab and numpy\"\n"
          ],
          "name": "stderr"
        },
        {
          "output_type": "execute_result",
          "data": {
            "text/plain": [
              "<matplotlib.axes._subplots.AxesSubplot at 0x7f70af2d5128>"
            ]
          },
          "metadata": {
            "tags": []
          },
          "execution_count": 31
        },
        {
          "output_type": "display_data",
          "data": {
            "image/png": "[encoded data removed]",
            "text/plain": [
              "<Figure size 1080x648 with 1 Axes>"
            ]
          },
          "metadata": {
            "tags": []
          }
        }
      ]
    },
    {
      "cell_type": "markdown",
      "metadata": {
        "id": "pSG0iQ39nsx_",
        "colab_type": "text"
      },
      "source": [
        "For a more indepth plot, we kindly refer you to take a look on our GitHub page, where we have made those plots in R. They are accesible via \n",
        "\n",
        "We now look at the Chinese stock market, Shanghai Stock Exchange."
      ]
    },
    {
      "cell_type": "code",
      "metadata": {
        "id": "8gb49r-4mpyh",
        "colab_type": "code",
        "outputId": "cfbc2202-4df2-4f0e-87a4-52e0b2a2646d",
        "colab": {
          "base_uri": "https://localhost:8080/",
          "height": 570
        }
      },
      "source": [
        "import matplotlib.pyplot as plt   # Import matplotlib\n",
        "# This line is necessary for the plot to appear in a Jupyter notebook\n",
        "%matplotlib inline\n",
        "# Control the default size of figures in this Jupyter notebook\n",
        "%pylab inline\n",
        "pylab.rcParams['figure.figsize'] = (15, 9)   # Change the size of plots\n",
        " \n",
        "china[\"china_close\"].plot(grid = True) # Plot the adjusted closing price of index"
      ],
      "execution_count": 0,
      "outputs": [
        {
          "output_type": "stream",
          "text": [
            "Populating the interactive namespace from numpy and matplotlib\n"
          ],
          "name": "stdout"
        },
        {
          "output_type": "execute_result",
          "data": {
            "text/plain": [
              "<matplotlib.axes._subplots.AxesSubplot at 0x7f70af167c50>"
            ]
          },
          "metadata": {
            "tags": []
          },
          "execution_count": 32
        },
        {
          "output_type": "display_data",
          "data": {
            "image/png": "[encoded data removed]",
            "text/plain": [
              "<Figure size 1080x648 with 1 Axes>"
            ]
          },
          "metadata": {
            "tags": []
          }
        }
      ]
    },
    {
      "cell_type": "markdown",
      "metadata": {
        "id": "qh8xXFbmn4uP",
        "colab_type": "text"
      },
      "source": [
        "From above it looks like the Chinese stock market reacts [this other way] to Trump's tweets.\n",
        "\n",
        "Finally we look at the American S&P 500 stock index."
      ]
    },
    {
      "cell_type": "code",
      "metadata": {
        "id": "U5f8P47fmuKv",
        "colab_type": "code",
        "outputId": "a8135831-106e-432d-c85f-853046dfaab7",
        "colab": {
          "base_uri": "https://localhost:8080/",
          "height": 570
        }
      },
      "source": [
        "import matplotlib.pyplot as plt   # Import matplotlib\n",
        "# This line is necessary for the plot to appear in a Jupyter notebook\n",
        "%matplotlib inline\n",
        "# Control the default size of figures in this Jupyter notebook\n",
        "%pylab inline\n",
        "pylab.rcParams['figure.figsize'] = (15, 9)   # Change the size of plots\n",
        " \n",
        "usa[\"usa_close\"].plot(grid = True) # Plot the adjusted closing price of index"
      ],
      "execution_count": 0,
      "outputs": [
        {
          "output_type": "stream",
          "text": [
            "Populating the interactive namespace from numpy and matplotlib\n"
          ],
          "name": "stdout"
        },
        {
          "output_type": "execute_result",
          "data": {
            "text/plain": [
              "<matplotlib.axes._subplots.AxesSubplot at 0x7f70adc949b0>"
            ]
          },
          "metadata": {
            "tags": []
          },
          "execution_count": 33
        },
        {
          "output_type": "display_data",
          "data": {
            "image/png": "[encoded data removed]",
            "text/plain": [
              "<Figure size 1080x648 with 1 Axes>"
            ]
          },
          "metadata": {
            "tags": []
          }
        }
      ]
    },
    {
      "cell_type": "markdown",
      "metadata": {
        "id": "wgfuKQsJoNa6",
        "colab_type": "text"
      },
      "source": [
        "From this, it looks like the market reacts this way to his tweets.\n",
        "\n",
        "Now that we have established, that it looks like the markets reacts to Trump's tweets, we can also try to use some natural language processing in combination with machine learning techniques to further investigate those reactions."
      ]
    },
    {
      "cell_type": "markdown",
      "metadata": {
        "id": "ti16EFd_ufaL",
        "colab_type": "text"
      },
      "source": [
        "#Tokenizing and vectorizing the tweets\n",
        "We first tokenize and vectorize Trump's tweets. We also split our data into a train and test set.\n",
        "\n",
        "We make a pipeline where we first use TfidfVectorizer, followed by the TruncatedSVD function.\n",
        "\n",
        "After this we make a list of all the tweets, followed by splitting the tweets into sentences."
      ]
    },
    {
      "cell_type": "code",
      "metadata": {
        "id": "BB9gBeGguOvE",
        "colab_type": "code",
        "colab": {}
      },
      "source": [
        "train_df = new_tweets2.iloc[:182]\n",
        "test_df = new_tweets2.iloc[182:]"
      ],
      "execution_count": 0,
      "outputs": []
    },
    {
      "cell_type": "code",
      "metadata": {
        "id": "ia1nmI6lupa9",
        "colab_type": "code",
        "colab": {}
      },
      "source": [
        "#Defining a pipeline\n",
        "vec = TfidfVectorizer()\n",
        "svd = TruncatedSVD(n_components=200, n_iter=7, random_state=42)\n",
        "\n",
        "lsa = make_pipeline(vec, svd)"
      ],
      "execution_count": 0,
      "outputs": []
    },
    {
      "cell_type": "code",
      "metadata": {
        "id": "HmUSj5PFuztV",
        "colab_type": "code",
        "colab": {}
      },
      "source": [
        "#Creating list of tweets\n",
        "texts = list(train_df.tweetraw)\n",
        "\n",
        "texts.extend(test_df.tweetraw) "
      ],
      "execution_count": 0,
      "outputs": []
    },
    {
      "cell_type": "code",
      "metadata": {
        "id": "4h7fzhldvgGY",
        "colab_type": "code",
        "outputId": "b603fee4-36da-4a9e-b2da-eb85990ea334",
        "colab": {
          "base_uri": "https://localhost:8080/",
          "height": 195
        }
      },
      "source": [
        "test_df.head()"
      ],
      "execution_count": 0,
      "outputs": [
        {
          "output_type": "execute_result",
          "data": {
            "text/html": [
              "<div>\n",
              "<style scoped>\n",
              "    .dataframe tbody tr th:only-of-type {\n",
              "        vertical-align: middle;\n",
              "    }\n",
              "\n",
              "    .dataframe tbody tr th {\n",
              "        vertical-align: top;\n",
              "    }\n",
              "\n",
              "    .dataframe thead th {\n",
              "        text-align: right;\n",
              "    }\n",
              "</style>\n",
              "<table border=\"1\" class=\"dataframe\">\n",
              "  <thead>\n",
              "    <tr style=\"text-align: right;\">\n",
              "      <th></th>\n",
              "      <th>dato</th>\n",
              "      <th>tweetraw</th>\n",
              "      <th>usa_close</th>\n",
              "      <th>usa_return</th>\n",
              "      <th>usa_op</th>\n",
              "      <th>dax_close</th>\n",
              "      <th>dax_return</th>\n",
              "      <th>dax_op</th>\n",
              "      <th>china_close</th>\n",
              "      <th>china_return</th>\n",
              "      <th>china_op</th>\n",
              "      <th>trade_war</th>\n",
              "    </tr>\n",
              "  </thead>\n",
              "  <tbody>\n",
              "    <tr>\n",
              "      <th>429</th>\n",
              "      <td>2018-08-07</td>\n",
              "      <td>Today on the 236th anniversary of the Purple ...</td>\n",
              "      <td>2858.449951</td>\n",
              "      <td>0.281623</td>\n",
              "      <td>1</td>\n",
              "      <td>12648.19043</td>\n",
              "      <td>0.395159</td>\n",
              "      <td>1</td>\n",
              "      <td>2779.374023</td>\n",
              "      <td>2.670279</td>\n",
              "      <td>1</td>\n",
              "      <td>True</td>\n",
              "    </tr>\n",
              "    <tr>\n",
              "      <th>430</th>\n",
              "      <td>2018-08-08</td>\n",
              "      <td>RED WAVE! Congratulations to @LenaEpstein of ...</td>\n",
              "      <td>2857.699951</td>\n",
              "      <td>-0.026245</td>\n",
              "      <td>0</td>\n",
              "      <td>12633.54004</td>\n",
              "      <td>-0.115964</td>\n",
              "      <td>0</td>\n",
              "      <td>2744.070068</td>\n",
              "      <td>-1.286554</td>\n",
              "      <td>0</td>\n",
              "      <td>True</td>\n",
              "    </tr>\n",
              "    <tr>\n",
              "      <th>432</th>\n",
              "      <td>2018-08-10</td>\n",
              "      <td>Deal with Mexico is coming along nicely. Auto...</td>\n",
              "      <td>2833.280029</td>\n",
              "      <td>-0.716486</td>\n",
              "      <td>0</td>\n",
              "      <td>12424.34961</td>\n",
              "      <td>-2.026349</td>\n",
              "      <td>0</td>\n",
              "      <td>2795.310059</td>\n",
              "      <td>0.033198</td>\n",
              "      <td>1</td>\n",
              "      <td>True</td>\n",
              "    </tr>\n",
              "    <tr>\n",
              "      <th>433</th>\n",
              "      <td>2018-08-13</td>\n",
              "      <td>It was my great honor to sign our new Defense...</td>\n",
              "      <td>2821.929932</td>\n",
              "      <td>-0.402210</td>\n",
              "      <td>0</td>\n",
              "      <td>12358.74023</td>\n",
              "      <td>-0.530874</td>\n",
              "      <td>0</td>\n",
              "      <td>2785.872070</td>\n",
              "      <td>-0.338780</td>\n",
              "      <td>0</td>\n",
              "      <td>True</td>\n",
              "    </tr>\n",
              "    <tr>\n",
              "      <th>434</th>\n",
              "      <td>2018-08-14</td>\n",
              "      <td>“Hope and Change in an Alabama Coal Mine” htt...</td>\n",
              "      <td>2839.959961</td>\n",
              "      <td>0.634869</td>\n",
              "      <td>1</td>\n",
              "      <td>12358.87012</td>\n",
              "      <td>0.001051</td>\n",
              "      <td>1</td>\n",
              "      <td>2780.965088</td>\n",
              "      <td>-0.176449</td>\n",
              "      <td>0</td>\n",
              "      <td>True</td>\n",
              "    </tr>\n",
              "  </tbody>\n",
              "</table>\n",
              "</div>"
            ],
            "text/plain": [
              "           dato  ... trade_war\n",
              "429  2018-08-07  ...      True\n",
              "430  2018-08-08  ...      True\n",
              "432  2018-08-10  ...      True\n",
              "433  2018-08-13  ...      True\n",
              "434  2018-08-14  ...      True\n",
              "\n",
              "[5 rows x 12 columns]"
            ]
          },
          "metadata": {
            "tags": []
          },
          "execution_count": 37
        }
      ]
    },
    {
      "cell_type": "code",
      "metadata": {
        "id": "gXrEeo34vkIa",
        "colab_type": "code",
        "colab": {}
      },
      "source": [
        "#Splitting sentences\n",
        "sents = []\n",
        "for text in texts:\n",
        "  sents.extend(sent_tokenize(text))"
      ],
      "execution_count": 0,
      "outputs": []
    },
    {
      "cell_type": "markdown",
      "metadata": {
        "id": "6CjEK0qvqGRF",
        "colab_type": "text"
      },
      "source": [
        "Now that we have split the tweets into sentences, we tokenize the texts, where we also make everything lower-case.\n",
        "\n",
        "We also define some stop-words, so we can filter those out."
      ]
    },
    {
      "cell_type": "code",
      "metadata": {
        "id": "sGiguA79sKaR",
        "colab_type": "code",
        "colab": {}
      },
      "source": [
        "from nltk.corpus import stopwords\n",
        "stop_words = set(stopwords.words('english')) "
      ],
      "execution_count": 0,
      "outputs": []
    },
    {
      "cell_type": "code",
      "metadata": {
        "id": "_kQRjHrGsNHG",
        "colab_type": "code",
        "outputId": "655eb418-9f2a-4e04-84b8-f7f8a007ab13",
        "colab": {
          "base_uri": "https://localhost:8080/",
          "height": 1000
        }
      },
      "source": [
        "[word.lower() for word in word_tokenize(text) if word not in stop_words and word.isalnum()]"
      ],
      "execution_count": 0,
      "outputs": [
        {
          "output_type": "execute_result",
          "data": {
            "text/plain": [
              "['also',\n",
              " 'friend',\n",
              " 'at',\n",
              " 'time',\n",
              " 'i',\n",
              " 'pleased',\n",
              " 'nominate',\n",
              " 'deputy',\n",
              " 'secretary',\n",
              " 'dan',\n",
              " 'brouillette',\n",
              " 'new',\n",
              " 'secretary',\n",
              " 'energy',\n",
              " 'dan',\n",
              " 'experience',\n",
              " 'sector',\n",
              " 'unparalleled',\n",
              " 'a',\n",
              " 'total',\n",
              " 'professional',\n",
              " 'i',\n",
              " 'doubt',\n",
              " 'dan',\n",
              " 'great',\n",
              " 'job',\n",
              " 'i',\n",
              " 'want',\n",
              " 'thank',\n",
              " 'secretary',\n",
              " 'energy',\n",
              " 'rick',\n",
              " 'perry',\n",
              " 'outstanding',\n",
              " 'job',\n",
              " 'done',\n",
              " 'he',\n",
              " 'leaving',\n",
              " 'end',\n",
              " 'year',\n",
              " 'pursue',\n",
              " 'interests',\n",
              " 'rick',\n",
              " 'great',\n",
              " 'governor',\n",
              " 'texas',\n",
              " 'great',\n",
              " 'secretary',\n",
              " 'energy',\n",
              " 'can',\n",
              " 'believe',\n",
              " 'i',\n",
              " 'important',\n",
              " 'work',\n",
              " 'country',\n",
              " 'deal',\n",
              " 'corrupt',\n",
              " 'adam',\n",
              " 'schiff',\n",
              " 'do',\n",
              " 'nothing',\n",
              " 'democrats',\n",
              " 'time',\n",
              " 'it',\n",
              " 'intended',\n",
              " 'way',\n",
              " 'president',\n",
              " 'defeat',\n",
              " 'terrorism',\n",
              " 'https',\n",
              " 'just',\n",
              " 'spoke',\n",
              " 'president',\n",
              " 'rterdogan',\n",
              " 'turkey',\n",
              " 'he',\n",
              " 'told',\n",
              " 'minor',\n",
              " 'sniper',\n",
              " 'mortar',\n",
              " 'fire',\n",
              " 'quickly',\n",
              " 'eliminated',\n",
              " 'he',\n",
              " 'much',\n",
              " 'wants',\n",
              " 'ceasefire',\n",
              " 'pause',\n",
              " 'work',\n",
              " 'likewise',\n",
              " 'kurds',\n",
              " 'want',\n",
              " 'ultimate',\n",
              " 'solution',\n",
              " 'happen',\n",
              " 'too',\n",
              " 'bad',\n",
              " 'thinking',\n",
              " 'years',\n",
              " 'ago',\n",
              " 'instead',\n",
              " 'always',\n",
              " 'held',\n",
              " 'together',\n",
              " 'weak',\n",
              " 'bandaids',\n",
              " 'amp',\n",
              " 'artificial',\n",
              " 'manner',\n",
              " 'there',\n",
              " 'good',\n",
              " 'sides',\n",
              " 'amp',\n",
              " 'really',\n",
              " 'good',\n",
              " 'chance',\n",
              " 'success',\n",
              " 'the',\n",
              " 'secured',\n",
              " 'oil',\n",
              " 'amp',\n",
              " 'isis',\n",
              " 'fighters',\n",
              " 'double',\n",
              " 'secured',\n",
              " 'kurds',\n",
              " 'amp',\n",
              " 'turkey',\n",
              " 'notified',\n",
              " 'european',\n",
              " 'nations',\n",
              " 'willing',\n",
              " 'first',\n",
              " 'time',\n",
              " 'take',\n",
              " 'isis',\n",
              " 'fighters',\n",
              " 'came',\n",
              " 'nations',\n",
              " 'this',\n",
              " 'good',\n",
              " 'news',\n",
              " 'done',\n",
              " 'we',\n",
              " 'captured',\n",
              " 'anyway',\n",
              " 'big',\n",
              " 'progress',\n",
              " 'made',\n",
              " 'rt',\n",
              " 'vvfriedman',\n",
              " 'potus',\n",
              " 'discovers',\n",
              " 'bag',\n",
              " 'https',\n",
              " 'rt',\n",
              " 'vvfriedman',\n",
              " 'the',\n",
              " 'louisvuitton',\n",
              " 'trump',\n",
              " 'ribbon',\n",
              " 'cutting',\n",
              " 'louis',\n",
              " 'vuitton',\n",
              " 'cost',\n",
              " 'lot',\n",
              " 'money',\n",
              " 'years',\n",
              " 'said',\n",
              " 'president',\n",
              " 'the',\n",
              " 'usa',\n",
              " 'https',\n",
              " 'rt',\n",
              " 'vvfriedman',\n",
              " 'so',\n",
              " 'i',\n",
              " 'factory',\n",
              " 'lv',\n",
              " 'cattle',\n",
              " 'lv',\n",
              " 'fields',\n",
              " 'johnson',\n",
              " 'county',\n",
              " 'texas',\n",
              " 'potus',\n",
              " 'rt',\n",
              " 'presssec',\n",
              " 'louisvuitton',\n",
              " 'one',\n",
              " '350',\n",
              " 'companies',\n",
              " 'delivering',\n",
              " 'pledge',\n",
              " 'america',\n",
              " 'workers',\n",
              " 'thank',\n",
              " 'investing',\n",
              " 'rt',\n",
              " 'danscavino',\n",
              " 'trumprallydallas',\n",
              " 'kag2020',\n",
              " 'https',\n",
              " 'democrats',\n",
              " 'party',\n",
              " 'high',\n",
              " 'taxes',\n",
              " 'high',\n",
              " 'crime',\n",
              " 'open',\n",
              " 'borders',\n",
              " 'abortion',\n",
              " 'socialism',\n",
              " 'blatant',\n",
              " 'corruption',\n",
              " 'the',\n",
              " 'republican',\n",
              " 'party',\n",
              " 'party',\n",
              " 'american',\n",
              " 'worker',\n",
              " 'american',\n",
              " 'family',\n",
              " 'american',\n",
              " 'dream',\n",
              " 'kag2020',\n",
              " 'https',\n",
              " 'tonight',\n",
              " 'forcefully',\n",
              " 'condemn',\n",
              " 'blatant',\n",
              " 'corruption',\n",
              " 'democrat',\n",
              " 'party',\n",
              " 'fake',\n",
              " 'news',\n",
              " 'media',\n",
              " 'rogue',\n",
              " 'bureaucrats',\n",
              " 'deep',\n",
              " 'state',\n",
              " 'the',\n",
              " 'message',\n",
              " 'radicals',\n",
              " 'understand',\n",
              " 'crushing',\n",
              " 'defeat',\n",
              " 'november',\n",
              " '3',\n",
              " '2020',\n",
              " 'kag2020',\n",
              " 'https',\n",
              " 'the',\n",
              " 'radical',\n",
              " 'left',\n",
              " 'tolerates',\n",
              " 'dissent',\n",
              " 'permits',\n",
              " 'opposition',\n",
              " 'accepts',\n",
              " 'compromise',\n",
              " 'absolutely',\n",
              " 'respect',\n",
              " 'american',\n",
              " 'people',\n",
              " 'they',\n",
              " 'coming',\n",
              " 'i',\n",
              " 'fighting',\n",
              " 'you',\n",
              " 'trumprallydallas',\n",
              " 'kag2020',\n",
              " 'https',\n",
              " 'thank',\n",
              " 'dallas',\n",
              " 'texas',\n",
              " 'i',\n",
              " 'love',\n",
              " 'trumprallydallas',\n",
              " 'kag2020',\n",
              " 'https',\n",
              " 'just',\n",
              " 'arrived',\n",
              " 'american',\n",
              " 'airlines',\n",
              " 'center',\n",
              " 'dallas',\n",
              " 'texas',\n",
              " 'will',\n",
              " 'shortly',\n",
              " 'wait',\n",
              " 'get',\n",
              " 'trump2020',\n",
              " 'https']"
            ]
          },
          "metadata": {
            "tags": []
          },
          "execution_count": 40
        }
      ]
    },
    {
      "cell_type": "code",
      "metadata": {
        "id": "YmejP5D9vnyZ",
        "colab_type": "code",
        "colab": {}
      },
      "source": [
        "#Tokenized sentences/texts\n",
        "tokenized_texts = [word_tokenize(text) for text in sents]\n",
        "tokenized_texts = list(map(lambda x: [y.lower() for y in x], tokenized_texts))"
      ],
      "execution_count": 0,
      "outputs": []
    },
    {
      "cell_type": "markdown",
      "metadata": {
        "id": "u9SKESMzuZTa",
        "colab_type": "text"
      },
      "source": [
        "Now that our tweets are tokenized, we can begin building our model."
      ]
    },
    {
      "cell_type": "code",
      "metadata": {
        "id": "c11Vr4UBvpwT",
        "colab_type": "code",
        "colab": {}
      },
      "source": [
        "#Defining my model\n",
        "model = Word2Vec(tokenized_texts, \n",
        "                 size=300,      \n",
        "                 min_count=10,  \n",
        "                 window=8,\n",
        "                 max_final_vocab = 3000).wv  "
      ],
      "execution_count": 0,
      "outputs": []
    },
    {
      "cell_type": "code",
      "metadata": {
        "id": "DzIN2fN2vrcU",
        "colab_type": "code",
        "colab": {}
      },
      "source": [
        "words = sorted(model.vocab.keys(), \n",
        "               key=lambda word: model.vocab[word].count,\n",
        "               reverse=True)[:1000]"
      ],
      "execution_count": 0,
      "outputs": []
    },
    {
      "cell_type": "code",
      "metadata": {
        "id": "MBy1eRp-vsw8",
        "colab_type": "code",
        "colab": {}
      },
      "source": [
        "#Returning word vectors\n",
        "word_vectors = model.vectors[[model.vocab[word].index for word in words]]"
      ],
      "execution_count": 0,
      "outputs": []
    },
    {
      "cell_type": "markdown",
      "metadata": {
        "id": "CsjlW2GdunbE",
        "colab_type": "text"
      },
      "source": [
        "We can now make some plotting of the vectorized words. We use the bokeh modules to make som neat interactive plots."
      ]
    },
    {
      "cell_type": "code",
      "metadata": {
        "id": "En5xH7jgvuSs",
        "colab_type": "code",
        "colab": {}
      },
      "source": [
        "#Making a bokeh plot for some neat interactive plots\n",
        "import bokeh.models as bm, bokeh.plotting as pl\n",
        "from bokeh.io import output_notebook\n",
        "\n",
        "def draw_vectors(x, y, radius=10, alpha=0.25, color='blue',\n",
        "                 width=600, height=400, show=True, **kwargs):\n",
        "    \"\"\" draws an interactive plot for data points with auxilirary info on hover \"\"\"\n",
        "    output_notebook()\n",
        "    \n",
        "    if isinstance(color, str): \n",
        "        color = [color] * len(x)\n",
        "    data_source = bm.ColumnDataSource({ 'x' : x, 'y' : y, 'color': color, **kwargs })\n",
        "\n",
        "    fig = pl.figure(active_scroll='wheel_zoom', width=width, height=height)\n",
        "    fig.scatter('x', 'y', size=radius, color='color', alpha=alpha, source=data_source)\n",
        "\n",
        "    fig.add_tools(bm.HoverTool(tooltips=[(key, \"@\" + key) for key in kwargs.keys()]))\n",
        "    if show: \n",
        "        pl.show(fig)\n",
        "    return fig"
      ],
      "execution_count": 0,
      "outputs": []
    },
    {
      "cell_type": "code",
      "metadata": {
        "id": "xdsJvpa1vv5h",
        "colab_type": "code",
        "colab": {}
      },
      "source": [
        "#Word vectors to 2 dimensions for bokeh plot\n",
        "import umap\n",
        "\n",
        "def get_umap_projection(word_vectors):\n",
        "    vecs = umap.UMAP(n_neighbors=15, metric='cosine').fit_transform(word_vectors)\n",
        "    return vecs"
      ],
      "execution_count": 0,
      "outputs": []
    },
    {
      "cell_type": "code",
      "metadata": {
        "id": "t5WvTLsmvxuH",
        "colab_type": "code",
        "outputId": "c9a5672d-4651-48c2-d455-9c4a98c7b514",
        "colab": {
          "base_uri": "https://localhost:8080/",
          "height": 434
        }
      },
      "source": [
        "word_umap = get_umap_projection(word_vectors[:1000])\n",
        "draw_vectors(word_umap[:, 0], word_umap[:, 1], color='blue', token=words)"
      ],
      "execution_count": 0,
      "outputs": [
        {
          "output_type": "display_data",
          "data": {
            "application/javascript": [
              "\n",
              "(function(root) {\n",
              "  function now() {\n",
              "    return new Date();\n",
              "  }\n",
              "\n",
              "  var force = true;\n",
              "\n",
              "  if (typeof (root._bokeh_onload_callbacks) === \"undefined\" || force === true) {\n",
              "    root._bokeh_onload_callbacks = [];\n",
              "    root._bokeh_is_loading = undefined;\n",
              "  }\n",
              "\n",
              "  var JS_MIME_TYPE = 'application/javascript';\n",
              "  var HTML_MIME_TYPE = 'text/html';\n",
              "  var EXEC_MIME_TYPE = 'application/vnd.bokehjs_exec.v0+json';\n",
              "  var CLASS_NAME = 'output_bokeh rendered_html';\n",
              "\n",
              "  /**\n",
              "   * Render data to the DOM node\n",
              "   */\n",
              "  function render(props, node) {\n",
              "    var script = document.createElement(\"script\");\n",
              "    node.appendChild(script);\n",
              "  }\n",
              "\n",
              "  /**\n",
              "   * Handle when an output is cleared or removed\n",
              "   */\n",
              "  function handleClearOutput(event, handle) {\n",
              "    var cell = handle.cell;\n",
              "\n",
              "    var id = cell.output_area._bokeh_element_id;\n",
              "    var server_id = cell.output_area._bokeh_server_id;\n",
              "    // Clean up Bokeh references\n",
              "    if (id != null && id in Bokeh.index) {\n",
              "      Bokeh.index[id].model.document.clear();\n",
              "      delete Bokeh.index[id];\n",
              "    }\n",
              "\n",
              "    if (server_id !== undefined) {\n",
              "      // Clean up Bokeh references\n",
              "      var cmd = \"from bokeh.io.state import curstate; print(curstate().uuid_to_server['\" + server_id + \"'].get_sessions()[0].document.roots[0]._id)\";\n",
              "      cell.notebook.kernel.execute(cmd, {\n",
              "        iopub: {\n",
              "          output: function(msg) {\n",
              "            var id = msg.content.text.trim();\n",
              "            if (id in Bokeh.index) {\n",
              "              Bokeh.index[id].model.document.clear();\n",
              "              delete Bokeh.index[id];\n",
              "            }\n",
              "          }\n",
              "        }\n",
              "      });\n",
              "      // Destroy server and session\n",
              "      var cmd = \"import bokeh.io.notebook as ion; ion.destroy_server('\" + server_id + \"')\";\n",
              "      cell.notebook.kernel.execute(cmd);\n",
              "    }\n",
              "  }\n",
              "\n",
              "  /**\n",
              "   * Handle when a new output is added\n",
              "   */\n",
              "  function handleAddOutput(event, handle) {\n",
              "    var output_area = handle.output_area;\n",
              "    var output = handle.output;\n",
              "\n",
              "    // limit handleAddOutput to display_data with EXEC_MIME_TYPE content only\n",
              "    if ((output.output_type != \"display_data\") || (!output.data.hasOwnProperty(EXEC_MIME_TYPE))) {\n",
              "      return\n",
              "    }\n",
              "\n",
              "    var toinsert = output_area.element.find(\".\" + CLASS_NAME.split(' ')[0]);\n",
              "\n",
              "    if (output.metadata[EXEC_MIME_TYPE][\"id\"] !== undefined) {\n",
              "      toinsert[toinsert.length - 1].firstChild.textContent = output.data[JS_MIME_TYPE];\n",
              "      // store reference to embed id on output_area\n",
              "      output_area._bokeh_element_id = output.metadata[EXEC_MIME_TYPE][\"id\"];\n",
              "    }\n",
              "    if (output.metadata[EXEC_MIME_TYPE][\"server_id\"] !== undefined) {\n",
              "      var bk_div = document.createElement(\"div\");\n",
              "      bk_div.innerHTML = output.data[HTML_MIME_TYPE];\n",
              "      var script_attrs = bk_div.children[0].attributes;\n",
              "      for (var i = 0; i < script_attrs.length; i++) {\n",
              "        toinsert[toinsert.length - 1].firstChild.setAttribute(script_attrs[i].name, script_attrs[i].value);\n",
              "      }\n",
              "      // store reference to server id on output_area\n",
              "      output_area._bokeh_server_id = output.metadata[EXEC_MIME_TYPE][\"server_id\"];\n",
              "    }\n",
              "  }\n",
              "\n",
              "  function register_renderer(events, OutputArea) {\n",
              "\n",
              "    function append_mime(data, metadata, element) {\n",
              "      // create a DOM node to render to\n",
              "      var toinsert = this.create_output_subarea(\n",
              "        metadata,\n",
              "        CLASS_NAME,\n",
              "        EXEC_MIME_TYPE\n",
              "      );\n",
              "      this.keyboard_manager.register_events(toinsert);\n",
              "      // Render to node\n",
              "      var props = {data: data, metadata: metadata[EXEC_MIME_TYPE]};\n",
              "      render(props, toinsert[toinsert.length - 1]);\n",
              "      element.append(toinsert);\n",
              "      return toinsert\n",
              "    }\n",
              "\n",
              "    /* Handle when an output is cleared or removed */\n",
              "    events.on('clear_output.CodeCell', handleClearOutput);\n",
              "    events.on('delete.Cell', handleClearOutput);\n",
              "\n",
              "    /* Handle when a new output is added */\n",
              "    events.on('output_added.OutputArea', handleAddOutput);\n",
              "\n",
              "    /**\n",
              "     * Register the mime type and append_mime function with output_area\n",
              "     */\n",
              "    OutputArea.prototype.register_mime_type(EXEC_MIME_TYPE, append_mime, {\n",
              "      /* Is output safe? */\n",
              "      safe: true,\n",
              "      /* Index of renderer in `output_area.display_order` */\n",
              "      index: 0\n",
              "    });\n",
              "  }\n",
              "\n",
              "  // register the mime type if in Jupyter Notebook environment and previously unregistered\n",
              "  if (root.Jupyter !== undefined) {\n",
              "    var events = require('base/js/events');\n",
              "    var OutputArea = require('notebook/js/outputarea').OutputArea;\n",
              "\n",
              "    if (OutputArea.prototype.mime_types().indexOf(EXEC_MIME_TYPE) == -1) {\n",
              "      register_renderer(events, OutputArea);\n",
              "    }\n",
              "  }\n",
              "\n",
              "  \n",
              "  if (typeof (root._bokeh_timeout) === \"undefined\" || force === true) {\n",
              "    root._bokeh_timeout = Date.now() + 5000;\n",
              "    root._bokeh_failed_load = false;\n",
              "  }\n",
              "\n",
              "  var NB_LOAD_WARNING = {'data': {'text/html':\n",
              "     \"<div style='background-color: #fdd'>\\n\"+\n",
              "     \"<p>\\n\"+\n",
              "     \"BokehJS does not appear to have successfully loaded. If loading BokehJS from CDN, this \\n\"+\n",
              "     \"may be due to a slow or bad network connection. Possible fixes:\\n\"+\n",
              "     \"</p>\\n\"+\n",
              "     \"<ul>\\n\"+\n",
              "     \"<li>re-rerun `output_notebook()` to attempt to load from CDN again, or</li>\\n\"+\n",
              "     \"<li>use INLINE resources instead, as so:</li>\\n\"+\n",
              "     \"</ul>\\n\"+\n",
              "     \"<code>\\n\"+\n",
              "     \"from bokeh.resources import INLINE\\n\"+\n",
              "     \"output_notebook(resources=INLINE)\\n\"+\n",
              "     \"</code>\\n\"+\n",
              "     \"</div>\"}};\n",
              "\n",
              "  function display_loaded() {\n",
              "    var el = document.getElementById(null);\n",
              "    if (el != null) {\n",
              "      el.textContent = \"BokehJS is loading...\";\n",
              "    }\n",
              "    if (root.Bokeh !== undefined) {\n",
              "      if (el != null) {\n",
              "        el.textContent = \"BokehJS \" + root.Bokeh.version + \" successfully loaded.\";\n",
              "      }\n",
              "    } else if (Date.now() < root._bokeh_timeout) {\n",
              "      setTimeout(display_loaded, 100)\n",
              "    }\n",
              "  }\n",
              "\n",
              "\n",
              "  function run_callbacks() {\n",
              "    try {\n",
              "      root._bokeh_onload_callbacks.forEach(function(callback) { callback() });\n",
              "    }\n",
              "    finally {\n",
              "      delete root._bokeh_onload_callbacks\n",
              "    }\n",
              "    console.info(\"Bokeh: all callbacks have finished\");\n",
              "  }\n",
              "\n",
              "  function load_libs(js_urls, callback) {\n",
              "    root._bokeh_onload_callbacks.push(callback);\n",
              "    if (root._bokeh_is_loading > 0) {\n",
              "      console.log(\"Bokeh: BokehJS is being loaded, scheduling callback at\", now());\n",
              "      return null;\n",
              "    }\n",
              "    if (js_urls == null || js_urls.length === 0) {\n",
              "      run_callbacks();\n",
              "      return null;\n",
              "    }\n",
              "    console.log(\"Bokeh: BokehJS not loaded, scheduling load and callback at\", now());\n",
              "    root._bokeh_is_loading = js_urls.length;\n",
              "    for (var i = 0; i < js_urls.length; i++) {\n",
              "      var url = js_urls[i];\n",
              "      var s = document.createElement('script');\n",
              "      s.src = url;\n",
              "      s.async = false;\n",
              "      s.onreadystatechange = s.onload = function() {\n",
              "        root._bokeh_is_loading--;\n",
              "        if (root._bokeh_is_loading === 0) {\n",
              "          console.log(\"Bokeh: all BokehJS libraries loaded\");\n",
              "          run_callbacks()\n",
              "        }\n",
              "      };\n",
              "      s.onerror = function() {\n",
              "        console.warn(\"failed to load library \" + url);\n",
              "      };\n",
              "      console.log(\"Bokeh: injecting script tag for BokehJS library: \", url);\n",
              "      document.getElementsByTagName(\"head\")[0].appendChild(s);\n",
              "    }\n",
              "  };\n",
              "\n",
              "  var js_urls = [\"https://cdn.pydata.org/bokeh/release/bokeh-1.0.4.min.js\", \"https://cdn.pydata.org/bokeh/release/bokeh-widgets-1.0.4.min.js\", \"https://cdn.pydata.org/bokeh/release/bokeh-tables-1.0.4.min.js\", \"https://cdn.pydata.org/bokeh/release/bokeh-gl-1.0.4.min.js\"];\n",
              "\n",
              "  var inline_js = [\n",
              "    function(Bokeh) {\n",
              "      Bokeh.set_log_level(\"info\");\n",
              "    },\n",
              "    \n",
              "    function(Bokeh) {\n",
              "      \n",
              "    },\n",
              "    function(Bokeh) {\n",
              "      console.log(\"Bokeh: injecting CSS: https://cdn.pydata.org/bokeh/release/bokeh-1.0.4.min.css\");\n",
              "      Bokeh.embed.inject_css(\"https://cdn.pydata.org/bokeh/release/bokeh-1.0.4.min.css\");\n",
              "      console.log(\"Bokeh: injecting CSS: https://cdn.pydata.org/bokeh/release/bokeh-widgets-1.0.4.min.css\");\n",
              "      Bokeh.embed.inject_css(\"https://cdn.pydata.org/bokeh/release/bokeh-widgets-1.0.4.min.css\");\n",
              "      console.log(\"Bokeh: injecting CSS: https://cdn.pydata.org/bokeh/release/bokeh-tables-1.0.4.min.css\");\n",
              "      Bokeh.embed.inject_css(\"https://cdn.pydata.org/bokeh/release/bokeh-tables-1.0.4.min.css\");\n",
              "    }\n",
              "  ];\n",
              "\n",
              "  function run_inline_js() {\n",
              "    \n",
              "    if ((root.Bokeh !== undefined) || (force === true)) {\n",
              "      for (var i = 0; i < inline_js.length; i++) {\n",
              "        inline_js[i].call(root, root.Bokeh);\n",
              "      }} else if (Date.now() < root._bokeh_timeout) {\n",
              "      setTimeout(run_inline_js, 100);\n",
              "    } else if (!root._bokeh_failed_load) {\n",
              "      console.log(\"Bokeh: BokehJS failed to load within specified timeout.\");\n",
              "      root._bokeh_failed_load = true;\n",
              "    } else if (force !== true) {\n",
              "      var cell = $(document.getElementById(null)).parents('.cell').data().cell;\n",
              "      cell.output_area.append_execute_result(NB_LOAD_WARNING)\n",
              "    }\n",
              "\n",
              "  }\n",
              "\n",
              "  if (root._bokeh_is_loading === 0) {\n",
              "    console.log(\"Bokeh: BokehJS loaded, going straight to plotting\");\n",
              "    run_inline_js();\n",
              "  } else {\n",
              "    load_libs(js_urls, function() {\n",
              "      console.log(\"Bokeh: BokehJS plotting callback run at\", now());\n",
              "      run_inline_js();\n",
              "    });\n",
              "  }\n",
              "}(window));"
            ],
            "application/vnd.bokehjs_load.v0+json": "\n(function(root) {\n  function now() {\n    return new Date();\n  }\n\n  var force = true;\n\n  if (typeof (root._bokeh_onload_callbacks) === \"undefined\" || force === true) {\n    root._bokeh_onload_callbacks = [];\n    root._bokeh_is_loading = undefined;\n  }\n\n  \n\n  \n  if (typeof (root._bokeh_timeout) === \"undefined\" || force === true) {\n    root._bokeh_timeout = Date.now() + 5000;\n    root._bokeh_failed_load = false;\n  }\n\n  var NB_LOAD_WARNING = {'data': {'text/html':\n     \"<div style='background-color: #fdd'>\\n\"+\n     \"<p>\\n\"+\n     \"BokehJS does not appear to have successfully loaded. If loading BokehJS from CDN, this \\n\"+\n     \"may be due to a slow or bad network connection. Possible fixes:\\n\"+\n     \"</p>\\n\"+\n     \"<ul>\\n\"+\n     \"<li>re-rerun `output_notebook()` to attempt to load from CDN again, or</li>\\n\"+\n     \"<li>use INLINE resources instead, as so:</li>\\n\"+\n     \"</ul>\\n\"+\n     \"<code>\\n\"+\n     \"from bokeh.resources import INLINE\\n\"+\n     \"output_notebook(resources=INLINE)\\n\"+\n     \"</code>\\n\"+\n     \"</div>\"}};\n\n  function display_loaded() {\n    var el = document.getElementById(null);\n    if (el != null) {\n      el.textContent = \"BokehJS is loading...\";\n    }\n    if (root.Bokeh !== undefined) {\n      if (el != null) {\n        el.textContent = \"BokehJS \" + root.Bokeh.version + \" successfully loaded.\";\n      }\n    } else if (Date.now() < root._bokeh_timeout) {\n      setTimeout(display_loaded, 100)\n    }\n  }\n\n\n  function run_callbacks() {\n    try {\n      root._bokeh_onload_callbacks.forEach(function(callback) { callback() });\n    }\n    finally {\n      delete root._bokeh_onload_callbacks\n    }\n    console.info(\"Bokeh: all callbacks have finished\");\n  }\n\n  function load_libs(js_urls, callback) {\n    root._bokeh_onload_callbacks.push(callback);\n    if (root._bokeh_is_loading > 0) {\n      console.log(\"Bokeh: BokehJS is being loaded, scheduling callback at\", now());\n      return null;\n    }\n    if (js_urls == null || js_urls.length === 0) {\n      run_callbacks();\n      return null;\n    }\n    console.log(\"Bokeh: BokehJS not loaded, scheduling load and callback at\", now());\n    root._bokeh_is_loading = js_urls.length;\n    for (var i = 0; i < js_urls.length; i++) {\n      var url = js_urls[i];\n      var s = document.createElement('script');\n      s.src = url;\n      s.async = false;\n      s.onreadystatechange = s.onload = function() {\n        root._bokeh_is_loading--;\n        if (root._bokeh_is_loading === 0) {\n          console.log(\"Bokeh: all BokehJS libraries loaded\");\n          run_callbacks()\n        }\n      };\n      s.onerror = function() {\n        console.warn(\"failed to load library \" + url);\n      };\n      console.log(\"Bokeh: injecting script tag for BokehJS library: \", url);\n      document.getElementsByTagName(\"head\")[0].appendChild(s);\n    }\n  };\n\n  var js_urls = [\"https://cdn.pydata.org/bokeh/release/bokeh-1.0.4.min.js\", \"https://cdn.pydata.org/bokeh/release/bokeh-widgets-1.0.4.min.js\", \"https://cdn.pydata.org/bokeh/release/bokeh-tables-1.0.4.min.js\", \"https://cdn.pydata.org/bokeh/release/bokeh-gl-1.0.4.min.js\"];\n\n  var inline_js = [\n    function(Bokeh) {\n      Bokeh.set_log_level(\"info\");\n    },\n    \n    function(Bokeh) {\n      \n    },\n    function(Bokeh) {\n      console.log(\"Bokeh: injecting CSS: https://cdn.pydata.org/bokeh/release/bokeh-1.0.4.min.css\");\n      Bokeh.embed.inject_css(\"https://cdn.pydata.org/bokeh/release/bokeh-1.0.4.min.css\");\n      console.log(\"Bokeh: injecting CSS: https://cdn.pydata.org/bokeh/release/bokeh-widgets-1.0.4.min.css\");\n      Bokeh.embed.inject_css(\"https://cdn.pydata.org/bokeh/release/bokeh-widgets-1.0.4.min.css\");\n      console.log(\"Bokeh: injecting CSS: https://cdn.pydata.org/bokeh/release/bokeh-tables-1.0.4.min.css\");\n      Bokeh.embed.inject_css(\"https://cdn.pydata.org/bokeh/release/bokeh-tables-1.0.4.min.css\");\n    }\n  ];\n\n  function run_inline_js() {\n    \n    if ((root.Bokeh !== undefined) || (force === true)) {\n      for (var i = 0; i < inline_js.length; i++) {\n        inline_js[i].call(root, root.Bokeh);\n      }} else if (Date.now() < root._bokeh_timeout) {\n      setTimeout(run_inline_js, 100);\n    } else if (!root._bokeh_failed_load) {\n      console.log(\"Bokeh: BokehJS failed to load within specified timeout.\");\n      root._bokeh_failed_load = true;\n    } else if (force !== true) {\n      var cell = $(document.getElementById(null)).parents('.cell').data().cell;\n      cell.output_area.append_execute_result(NB_LOAD_WARNING)\n    }\n\n  }\n\n  if (root._bokeh_is_loading === 0) {\n    console.log(\"Bokeh: BokehJS loaded, going straight to plotting\");\n    run_inline_js();\n  } else {\n    load_libs(js_urls, function() {\n      console.log(\"Bokeh: BokehJS plotting callback run at\", now());\n      run_inline_js();\n    });\n  }\n}(window));"
          },
          "metadata": {
            "tags": []
          }
        },
        {
          "output_type": "display_data",
          "data": {
            "text/html": [
              "\n",
              "\n",
              "\n",
              "\n",
              "\n",
              "\n",
              "  <div class=\"bk-root\" id=\"e46b9cfe-ddf7-4149-8f37-b546b5416696\" data-root-id=\"1002\"></div>\n"
            ]
          },
          "metadata": {
            "tags": []
          }
        },
        {
          "output_type": "display_data",
          "data": {
            "application/javascript": [
              "(function(root) {\n",
              "  function embed_document(root) {\n",
              "    \n",
              "  var docs_json = {\"fc29ea37-fda5-40e8-8fe1-0a4662c40e80\":{\"roots\":{\"references\":[{\"attributes\":{\"below\":[{\"id\":\"1011\",\"type\":\"LinearAxis\"}],\"left\":[{\"id\":\"1016\",\"type\":\"LinearAxis\"}],\"plot_height\":400,\"renderers\":[{\"id\":\"1011\",\"type\":\"LinearAxis\"},{\"id\":\"1015\",\"type\":\"Grid\"},{\"id\":\"1016\",\"type\":\"LinearAxis\"},{\"id\":\"1020\",\"type\":\"Grid\"},{\"id\":\"1029\",\"type\":\"BoxAnnotation\"},{\"id\":\"1039\",\"type\":\"GlyphRenderer\"}],\"title\":{\"id\":\"1044\",\"type\":\"Title\"},\"toolbar\":{\"id\":\"1027\",\"type\":\"Toolbar\"},\"x_range\":{\"id\":\"1003\",\"type\":\"DataRange1d\"},\"x_scale\":{\"id\":\"1007\",\"type\":\"LinearScale\"},\"y_range\":{\"id\":\"1005\",\"type\":\"DataRange1d\"},\"y_scale\":{\"id\":\"1009\",\"type\":\"LinearScale\"}},\"id\":\"1002\",\"subtype\":\"Figure\",\"type\":\"Plot\"},{\"attributes\":{\"overlay\":{\"id\":\"1029\",\"type\":\"BoxAnnotation\"}},\"id\":\"1023\",\"type\":\"BoxZoomTool\"},{\"attributes\":{\"bottom_units\":\"screen\",\"fill_alpha\":{\"value\":0.5},\"fill_color\":{\"value\":\"lightgrey\"},\"left_units\":\"screen\",\"level\":\"overlay\",\"line_alpha\":{\"value\":1.0},\"line_color\":{\"value\":\"black\"},\"line_dash\":[4,4],\"line_width\":{\"value\":2},\"plot\":null,\"render_mode\":\"css\",\"right_units\":\"screen\",\"top_units\":\"screen\"},\"id\":\"1029\",\"type\":\"BoxAnnotation\"},{\"attributes\":{\"plot\":null,\"text\":\"\"},\"id\":\"1044\",\"type\":\"Title\"},{\"attributes\":{},\"id\":\"1022\",\"type\":\"WheelZoomTool\"},{\"attributes\":{\"plot\":{\"id\":\"1002\",\"subtype\":\"Figure\",\"type\":\"Plot\"},\"ticker\":{\"id\":\"1012\",\"type\":\"BasicTicker\"}},\"id\":\"1015\",\"type\":\"Grid\"},{\"attributes\":{},\"id\":\"1012\",\"type\":\"BasicTicker\"},{\"attributes\":{},\"id\":\"1017\",\"type\":\"BasicTicker\"},{\"attributes\":{\"callback\":null},\"id\":\"1005\",\"type\":\"DataRange1d\"},{\"attributes\":{},\"id\":\"1025\",\"type\":\"ResetTool\"},{\"attributes\":{\"callback\":null},\"id\":\"1003\",\"type\":\"DataRange1d\"},{\"attributes\":{},\"id\":\"1026\",\"type\":\"HelpTool\"},{\"attributes\":{\"callback\":null,\"data\":{\"color\":[\"blue\",\"blue\",\"blue\",\"blue\",\"blue\",\"blue\",\"blue\",\"blue\",\"blue\",\"blue\",\"blue\",\"blue\",\"blue\",\"blue\",\"blue\",\"blue\",\"blue\",\"blue\",\"blue\",\"blue\",\"blue\",\"blue\",\"blue\",\"blue\",\"blue\",\"blue\",\"blue\",\"blue\",\"blue\",\"blue\",\"blue\",\"blue\",\"blue\",\"blue\",\"blue\",\"blue\",\"blue\",\"blue\",\"blue\",\"blue\",\"blue\",\"blue\",\"blue\",\"blue\",\"blue\",\"blue\",\"blue\",\"blue\",\"blue\",\"blue\",\"blue\",\"blue\",\"blue\",\"blue\",\"blue\",\"blue\",\"blue\",\"blue\",\"blue\",\"blue\",\"blue\",\"blue\",\"blue\",\"blue\",\"blue\",\"blue\",\"blue\",\"blue\",\"blue\",\"blue\",\"blue\",\"blue\",\"blue\",\"blue\",\"blue\",\"blue\",\"blue\",\"blue\",\"blue\",\"blue\",\"blue\",\"blue\",\"blue\",\"blue\",\"blue\",\"blue\",\"blue\",\"blue\",\"blue\",\"blue\",\"blue\",\"blue\",\"blue\",\"blue\",\"blue\",\"blue\",\"blue\",\"blue\",\"blue\",\"blue\",\"blue\",\"blue\",\"blue\",\"blue\",\"blue\",\"blue\",\"blue\",\"blue\",\"blue\",\"blue\",\"blue\",\"blue\",\"blue\",\"blue\",\"blue\",\"blue\",\"blue\",\"blue\",\"blue\",\"blue\",\"blue\",\"blue\",\"blue\",\"blue\",\"blue\",\"blue\",\"blue\",\"blue\",\"blue\",\"blue\",\"blue\",\"blue\",\"blue\",\"blue\",\"blue\",\"blue\",\"blue\",\"blue\",\"blue\",\"blue\",\"blue\",\"blue\",\"blue\",\"blue\",\"blue\",\"blue\",\"blue\",\"blue\",\"blue\",\"blue\",\"blue\",\"blue\",\"blue\",\"blue\",\"blue\",\"blue\",\"blue\",\"blue\",\"blue\",\"blue\",\"blue\",\"blue\",\"blue\",\"blue\",\"blue\",\"blue\",\"blue\",\"blue\",\"blue\",\"blue\",\"blue\",\"blue\",\"blue\",\"blue\",\"blue\",\"blue\",\"blue\",\"blue\",\"blue\",\"blue\",\"blue\",\"blue\",\"blue\",\"blue\",\"blue\",\"blue\",\"blue\",\"blue\",\"blue\",\"blue\",\"blue\",\"blue\",\"blue\",\"blue\",\"blue\",\"blue\",\"blue\",\"blue\",\"blue\",\"blue\",\"blue\",\"blue\",\"blue\",\"blue\",\"blue\",\"blue\",\"blue\",\"blue\",\"blue\",\"blue\",\"blue\",\"blue\",\"blue\",\"blue\",\"blue\",\"blue\",\"blue\",\"blue\",\"blue\",\"blue\",\"blue\",\"blue\",\"blue\",\"blue\",\"blue\",\"blue\",\"blue\",\"blue\",\"blue\",\"blue\",\"blue\",\"blue\",\"blue\",\"blue\",\"blue\",\"blue\",\"blue\",\"blue\",\"blue\",\"blue\",\"blue\",\"blue\",\"blue\",\"blue\",\"blue\",\"blue\",\"blue\",\"blue\",\"blue\",\"blue\",\"blue\",\"blue\",\"blue\",\"blue\",\"blue\",\"blue\",\"blue\",\"blue\",\"blue\",\"blue\",\"blue\",\"blue\",\"blue\",\"blue\",\"blue\",\"blue\",\"blue\",\"blue\",\"blue\",\"blue\",\"blue\",\"blue\",\"blue\",\"blue\",\"blue\",\"blue\",\"blue\",\"blue\",\"blue\",\"blue\",\"blue\",\"blue\",\"blue\",\"blue\",\"blue\",\"blue\",\"blue\",\"blue\",\"blue\",\"blue\",\"blue\",\"blue\",\"blue\",\"blue\",\"blue\",\"blue\",\"blue\",\"blue\",\"blue\",\"blue\",\"blue\",\"blue\",\"blue\",\"blue\",\"blue\",\"blue\",\"blue\",\"blue\",\"blue\",\"blue\",\"blue\",\"blue\",\"blue\",\"blue\",\"blue\",\"blue\",\"blue\",\"blue\",\"blue\",\"blue\",\"blue\",\"blue\",\"blue\",\"blue\",\"blue\",\"blue\",\"blue\",\"blue\",\"blue\",\"blue\",\"blue\",\"blue\",\"blue\",\"blue\",\"blue\",\"blue\",\"blue\",\"blue\",\"blue\",\"blue\",\"blue\",\"blue\",\"blue\",\"blue\",\"blue\",\"blue\",\"blue\",\"blue\",\"blue\",\"blue\",\"blue\",\"blue\",\"blue\",\"blue\",\"blue\",\"blue\",\"blue\",\"blue\",\"blue\",\"blue\",\"blue\",\"blue\",\"blue\",\"blue\",\"blue\",\"blue\",\"blue\",\"blue\",\"blue\",\"blue\",\"blue\",\"blue\",\"blue\",\"blue\",\"blue\",\"blue\",\"blue\",\"blue\",\"blue\",\"blue\",\"blue\",\"blue\",\"blue\",\"blue\",\"blue\",\"blue\",\"blue\",\"blue\",\"blue\",\"blue\",\"blue\",\"blue\",\"blue\",\"blue\",\"blue\",\"blue\",\"blue\",\"blue\",\"blue\",\"blue\",\"blue\",\"blue\",\"blue\",\"blue\",\"blue\",\"blue\",\"blue\",\"blue\",\"blue\",\"blue\",\"blue\",\"blue\",\"blue\",\"blue\",\"blue\",\"blue\",\"blue\",\"blue\",\"blue\",\"blue\",\"blue\",\"blue\",\"blue\",\"blue\",\"blue\",\"blue\",\"blue\",\"blue\",\"blue\",\"blue\",\"blue\",\"blue\",\"blue\",\"blue\",\"blue\",\"blue\",\"blue\",\"blue\",\"blue\",\"blue\",\"blue\",\"blue\",\"blue\",\"blue\",\"blue\",\"blue\",\"blue\",\"blue\",\"blue\",\"blue\",\"blue\",\"blue\",\"blue\",\"blue\",\"blue\",\"blue\",\"blue\",\"blue\",\"blue\",\"blue\",\"blue\",\"blue\",\"blue\",\"blue\",\"blue\",\"blue\",\"blue\",\"blue\",\"blue\",\"blue\",\"blue\",\"blue\",\"blue\",\"blue\",\"blue\",\"blue\",\"blue\",\"blue\",\"blue\",\"blue\",\"blue\",\"blue\",\"blue\",\"blue\",\"blue\",\"blue\",\"blue\",\"blue\",\"blue\",\"blue\",\"blue\",\"blue\",\"blue\",\"blue\",\"blue\",\"blue\",\"blue\",\"blue\",\"blue\",\"blue\",\"blue\",\"blue\",\"blue\",\"blue\",\"blue\",\"blue\",\"blue\",\"blue\",\"blue\",\"blue\",\"blue\",\"blue\",\"blue\",\"blue\",\"blue\",\"blue\",\"blue\",\"blue\",\"blue\",\"blue\",\"blue\",\"blue\",\"blue\",\"blue\",\"blue\",\"blue\",\"blue\",\"blue\",\"blue\",\"blue\",\"blue\",\"blue\",\"blue\",\"blue\",\"blue\",\"blue\",\"blue\",\"blue\",\"blue\",\"blue\",\"blue\",\"blue\",\"blue\",\"blue\",\"blue\",\"blue\",\"blue\",\"blue\",\"blue\",\"blue\",\"blue\",\"blue\",\"blue\",\"blue\",\"blue\",\"blue\",\"blue\",\"blue\",\"blue\",\"blue\",\"blue\",\"blue\",\"blue\",\"blue\",\"blue\",\"blue\",\"blue\",\"blue\",\"blue\",\"blue\",\"blue\",\"blue\",\"blue\",\"blue\",\"blue\",\"blue\",\"blue\",\"blue\",\"blue\",\"blue\",\"blue\",\"blue\",\"blue\",\"blue\",\"blue\",\"blue\",\"blue\",\"blue\",\"blue\",\"blue\",\"blue\",\"blue\",\"blue\",\"blue\",\"blue\",\"blue\",\"blue\",\"blue\",\"blue\",\"blue\",\"blue\",\"blue\",\"blue\",\"blue\",\"blue\",\"blue\",\"blue\",\"blue\",\"blue\",\"blue\",\"blue\",\"blue\",\"blue\",\"blue\",\"blue\",\"blue\",\"blue\",\"blue\",\"blue\",\"blue\",\"blue\",\"blue\",\"blue\",\"blue\",\"blue\",\"blue\",\"blue\",\"blue\",\"blue\",\"blue\",\"blue\",\"blue\",\"blue\",\"blue\",\"blue\",\"blue\",\"blue\",\"blue\",\"blue\",\"blue\",\"blue\",\"blue\",\"blue\",\"blue\",\"blue\",\"blue\",\"blue\",\"blue\",\"blue\",\"blue\",\"blue\",\"blue\",\"blue\",\"blue\",\"blue\",\"blue\",\"blue\",\"blue\",\"blue\",\"blue\",\"blue\",\"blue\",\"blue\",\"blue\",\"blue\",\"blue\",\"blue\",\"blue\",\"blue\",\"blue\",\"blue\",\"blue\",\"blue\",\"blue\",\"blue\",\"blue\",\"blue\",\"blue\",\"blue\",\"blue\",\"blue\",\"blue\",\"blue\",\"blue\",\"blue\",\"blue\",\"blue\",\"blue\",\"blue\",\"blue\",\"blue\",\"blue\",\"blue\",\"blue\",\"blue\",\"blue\",\"blue\",\"blue\",\"blue\",\"blue\",\"blue\",\"blue\",\"blue\",\"blue\",\"blue\",\"blue\",\"blue\",\"blue\",\"blue\",\"blue\",\"blue\",\"blue\",\"blue\",\"blue\",\"blue\",\"blue\",\"blue\",\"blue\",\"blue\",\"blue\",\"blue\",\"blue\",\"blue\",\"blue\",\"blue\",\"blue\",\"blue\",\"blue\",\"blue\",\"blue\",\"blue\",\"blue\",\"blue\",\"blue\",\"blue\",\"blue\",\"blue\",\"blue\",\"blue\",\"blue\",\"blue\",\"blue\",\"blue\",\"blue\",\"blue\",\"blue\",\"blue\",\"blue\",\"blue\",\"blue\",\"blue\",\"blue\",\"blue\",\"blue\",\"blue\",\"blue\",\"blue\",\"blue\",\"blue\",\"blue\",\"blue\",\"blue\",\"blue\",\"blue\",\"blue\",\"blue\",\"blue\",\"blue\",\"blue\",\"blue\",\"blue\",\"blue\",\"blue\",\"blue\",\"blue\",\"blue\",\"blue\",\"blue\",\"blue\",\"blue\",\"blue\",\"blue\",\"blue\",\"blue\",\"blue\",\"blue\",\"blue\",\"blue\",\"blue\",\"blue\",\"blue\",\"blue\",\"blue\",\"blue\",\"blue\",\"blue\",\"blue\",\"blue\",\"blue\",\"blue\",\"blue\",\"blue\",\"blue\",\"blue\",\"blue\",\"blue\",\"blue\",\"blue\",\"blue\",\"blue\",\"blue\",\"blue\",\"blue\",\"blue\",\"blue\",\"blue\",\"blue\",\"blue\",\"blue\",\"blue\",\"blue\",\"blue\",\"blue\",\"blue\",\"blue\",\"blue\",\"blue\",\"blue\",\"blue\",\"blue\",\"blue\",\"blue\",\"blue\",\"blue\",\"blue\",\"blue\",\"blue\",\"blue\",\"blue\",\"blue\",\"blue\",\"blue\",\"blue\",\"blue\",\"blue\",\"blue\",\"blue\",\"blue\",\"blue\",\"blue\",\"blue\",\"blue\",\"blue\",\"blue\",\"blue\",\"blue\",\"blue\",\"blue\",\"blue\",\"blue\",\"blue\",\"blue\",\"blue\",\"blue\",\"blue\",\"blue\",\"blue\",\"blue\",\"blue\",\"blue\",\"blue\",\"blue\",\"blue\",\"blue\",\"blue\",\"blue\",\"blue\",\"blue\",\"blue\",\"blue\",\"blue\",\"blue\",\"blue\",\"blue\",\"blue\",\"blue\",\"blue\",\"blue\",\"blue\",\"blue\",\"blue\",\"blue\",\"blue\",\"blue\",\"blue\",\"blue\",\"blue\",\"blue\",\"blue\",\"blue\",\"blue\",\"blue\",\"blue\",\"blue\",\"blue\",\"blue\",\"blue\",\"blue\",\"blue\",\"blue\",\"blue\",\"blue\",\"blue\",\"blue\",\"blue\",\"blue\",\"blue\",\"blue\",\"blue\",\"blue\",\"blue\",\"blue\",\"blue\",\"blue\",\"blue\",\"blue\",\"blue\",\"blue\",\"blue\",\"blue\",\"blue\",\"blue\",\"blue\",\"blue\",\"blue\",\"blue\",\"blue\",\"blue\",\"blue\",\"blue\",\"blue\",\"blue\",\"blue\",\"blue\",\"blue\",\"blue\",\"blue\",\"blue\",\"blue\",\"blue\",\"blue\",\"blue\",\"blue\",\"blue\",\"blue\",\"blue\",\"blue\",\"blue\",\"blue\",\"blue\",\"blue\",\"blue\",\"blue\",\"blue\",\"blue\",\"blue\",\"blue\",\"blue\",\"blue\",\"blue\",\"blue\",\"blue\",\"blue\",\"blue\",\"blue\",\"blue\",\"blue\",\"blue\",\"blue\",\"blue\",\"blue\",\"blue\",\"blue\",\"blue\",\"blue\",\"blue\",\"blue\",\"blue\",\"blue\",\"blue\",\"blue\",\"blue\",\"blue\",\"blue\",\"blue\",\"blue\",\"blue\",\"blue\",\"blue\",\"blue\"],\"token\":[\"the\",\".\",\"to\",\"!\",\"and\",\":\",\"of\",\"@\",\"a\",\"in\",\"is\",\"for\",\"https\",\"\\u2019\",\"that\",\"i\",\"on\",\"our\",\"are\",\"...\",\"will\",\"with\",\"we\",\"it\",\"great\",\"be\",\"rt\",\"they\",\"have\",\"you\",\";\",\"&\",\"amp\",\"\\u201c\",\"\\u201d\",\"at\",\"#\",\"this\",\"was\",\"has\",\"not\",\"s\",\"he\",\"all\",\"president\",\"by\",\"very\",\"t\",\"people\",\"so\",\"no\",\"(\",\")\",\"as\",\"my\",\"-\",\"now\",\"who\",\"trump\",\"just\",\"from\",\"democrats\",\"country\",\"big\",\"more\",\"?\",\"but\",\"their\",\"been\",\"do\",\"news\",\"thank\",\"his\",\"new\",\"many\",\"or\",\"would\",\"today\",\"an\",\"out\",\"what\",\"get\",\"fake\",\"border\",\"america\",\"me\",\"can\",\"than\",\"there\",\"realdonaldtrump\",\"u.s.\",\"much\",\"china\",\"up\",\"if\",\"years\",\"about\",\"time\",\"should\",\"never\",\"good\",\"united\",\"american\",\"when\",\"want\",\"%\",\"make\",\"states\",\"deal\",\"one\",\"done\",\"them\",\"which\",\"back\",\"being\",\"media\",\"must\",\"doing\",\"other\",\"trade\",\"only\",\"house\",\"your\",\"don\",\"again\",\"even\",\"going\",\"us\",\"jobs\",\"bad\",\"were\",\"job\",\"state\",\"vote\",\"am\",\"had\",\"crime\",\"over\",\"wall\",\"way\",\"did\",\"because\",\"like\",\"first\",\"see\",\"military\",\"into\",\"whitehouse\",\"ever\",\"made\",\"after\",\"security\",\"she\",\",\",\"north\",\"win\",\"him\",\"'s\",\"world\",\"how\",\"economy\",\"why\",\"her\",\"day\",\"also\",\"strong\",\"go\",\"said\",\"dems\",\"election\",\"look\",\"working\",\"last\",\"history\",\"work\",\"really\",\"dollars\",\"against\",\"congress\",\"money\",\"witch\",\"hunt\",\"tax\",\"hard\",\"down\",\"nothing\",\"russia\",\"know\",\"hillary\",\"far\",\"fbi\",\"mueller\",\"most\",\"before\",\"well\",\"mexico\",\"congratulations\",\"obama\",\"collusion\",\"countries\",\"national\",\"year\",\"republican\",\"report\",\"$\",\"total\",\"these\",\"need\",\"campaign\",\"important\",\"meeting\",\"better\",\"foxandfriends\",\"honor\",\"korea\",\"republicans\",\"long\",\"two\",\"clinton\",\"got\",\"looking\",\"tariffs\",\"some\",\"forward\",\"best\",\"..\",\"``\",\"any\",\"take\",\"high\",\"billion\",\"where\",\"let\",\"coming\",\"illegal\",\"things\",\"party\",\"come\",\"administration\",\"white\",\"too\",\"getting\",\"democrat\",\"won\",\"support\",\"senate\",\"help\",\"law\",\"say\",\"foxnews\",\"think\",\"since\",\"together\",\"right\",\"bill\",\"tonight\",\"americans\",\"always\",\"fact\",\"totally\",\"its\",\"farmers\",\"record\",\"usa\",\"immigration\",\"twitter\",\"while\",\"those\",\"n't\",\"borders\",\"left\",\"could\",\"incredible\",\"crooked\",\"give\",\"end\",\"companies\",\"cnn\",\"maga\",\"love\",\"others\",\"another\",\"didn\",\"stop\",\"business\",\"john\",\"comey\",\"night\",\"carolina\",\"governor\",\"keep\",\"nation\",\"watch\",\"wonderful\",\"then\",\"full\",\"iphone\",\"under\",\"such\",\"justice\",\"including\",\"southern\",\"open\",\"every\",\"senator\",\"''\",\"making\",\"continue\",\"numbers\",\"real\",\"put\",\"massive\",\"here\",\"york\",\"pay\",\"cuts\",\"\\u2013\",\"already\",\"book\",\"soon\",\"court\",\"does\",\"true\",\"doesn\",\"office\",\"order\",\"presidential\",\"billions\",\"vets\",\"wrong\",\"women\",\"tremendous\",\"re\",\"tomorrow\",\"florida\",\"endorsement\",\"washington\",\"same\",\"story\",\"call\",\"through\",\"family\",\"place\",\"general\",\"show\",\"prime\",\"political\",\"running\",\"donald\",\"times\",\"future\",\"government\",\"california\",\"wow\",\"everyone\",\"tough\",\"federal\",\"happen\",\"protect\",\"beautiful\",\"unemployment\",\"obstruction\",\"along\",\"corrupt\",\"truly\",\"greatest\",\"terrible\",\"problem\",\"workers\",\"james\",\"having\",\"minister\",\"happy\",\"taking\",\"despite\",\"off\",\"laws\",\"south\",\"low\",\"almost\",\"may\",\"loves\",\"case\",\"iran\",\"market\",\"without\",\"taxes\",\"wants\",\"nancy\",\"believe\",\"lost\",\"israel\",\"man\",\"next\",\"rate\",\"potus\",\"change\",\"ve\",\"run\",\"thing\",\"ratings\",\"trying\",\"anything\",\"remember\",\"paid\",\"healthcare\",\"both\",\"stand\",\"start\",\"hurricane\",\"pelosi\",\"highly\",\"deals\",\"taken\",\"economic\",\"called\",\"ivankatrump\",\"secretary\",\"during\",\"seanhannity\",\"war\",\"impeachment\",\"took\",\"radical\",\"act\",\"yet\",\"information\",\"little\",\"fed\",\"join\",\"debate\",\"proud\",\"leaders\",\"fast\",\"welcome\",\"phony\",\"zero\",\"ago\",\"bring\",\"team\",\"special\",\"actually\",\"god\",\"badly\",\"energy\",\"built\",\"large\",\"cut\",\"ready\",\"something\",\"nice\",\"longer\",\"level\",\"vp\",\"russian\",\"between\",\"families\",\"second\",\"enforcement\",\"texas\",\"complete\",\"failed\",\"millions\",\"around\",\"life\",\"million\",\"fantastic\",\"interest\",\"biggest\",\"fair\",\"joe\",\"hit\",\"days\",\"unfair\",\"leaving\",\"japan\",\"steel\",\"flotus\",\"heading\",\"build\",\"2016\",\"3\",\"service\",\"nations\",\"given\",\"weak\",\"drugs\",\"highest\",\"crazy\",\"former\",\"stock\",\"told\",\"investigation\",\"care\",\"person\",\"force\",\"fight\",\"ridiculous\",\"talk\",\"statement\",\"close\",\"success\",\"fighting\",\"based\",\"rally\",\"used\",\"m\",\"lives\",\"allowed\",\"top\",\"safe\",\"use\",\"perhaps\",\"number\",\"spoke\",\"yesterday\",\"home\",\"2\",\"still\",\"pass\",\"asked\",\"stories\",\"kim\",\"2020\",\"says\",\"gone\",\"hope\",\"free\",\"victory\",\"week\",\"power\",\"relationship\",\"seen\",\"quickly\",\"drug\",\"amendment\",\"pennsylvania\",\"friend\",\"away\",\"hoax\",\"please\",\"friends\",\"until\",\"lowest\",\"daca\",\"fired\",\"congressman\",\"entire\",\"live\",\"criminal\",\"supreme\",\"100\",\"gave\",\"men\",\"dollar\",\"safety\",\"historic\",\"xi\",\"robert\",\"thanks\",\"saying\",\"talking\",\"stronger\",\"successful\",\"melania\",\"morning\",\"words\",\"possible\",\"forced\",\"nato\",\"winning\",\"tell\",\"michael\",\"cost\",\"poll\",\"else\",\"signed\",\"attorney\",\"major\",\"stated\",\"beginning\",\"reform\",\"hopefully\",\"immediately\",\"paying\",\"system\",\"fema\",\"finally\",\"biden\",\"ohio\",\"everything\",\"spending\",\"lot\",\"stay\",\"become\",\"came\",\"higher\",\"whistleblower\",\"months\",\"game\",\"bob\",\"fix\",\"loudobbs\",\"department\",\"turkey\",\"angry\",\"\\u2026\",\"started\",\"worst\",\"wanted\",\"attack\",\"air\",\"intelligence\",\"meet\",\"happening\",\"needed\",\"veterans\",\"freedom\",\"agenda\",\"peace\",\"rather\",\"prices\",\"respected\",\"thought\",\"strzok\",\"speech\",\"w/\",\"'\",\"page\",\"fully\",\"anyone\",\"especially\",\"germany\",\"dangerous\",\"decision\",\"released\",\"france\",\"point\",\"reason\",\"approval\",\"part\",\"november\",\"schumer\",\"worked\",\"primary\",\"dan\",\"european\",\"crisis\",\"andrew\",\"evening\",\"announced\",\"50\",\"4\",\"alabama\",\"votes\",\"worse\",\"amazing\",\"evidence\",\"canada\",\"\\u2014\",\"agreement\",\"leave\",\"union\",\"went\",\"sad\",\"happened\",\"gopchairwoman\",\"products\",\"usmca\",\"once\",\"thousands\",\"rigged\",\"director\",\"u.s\",\"building\",\"west\",\"move\",\"michigan\",\"hurt\",\"chuck\",\"giving\",\"decades\",\"dorian\",\"30\",\"chairman\",\"failing\",\"virginia\",\"control\",\"1\",\"committee\",\"gop\",\"smart\",\"early\",\"race\",\"needs\",\"own\",\"bless\",\"process\",\"absolutely\",\"obamacare\",\"points\",\"bigleaguetruth\",\"allow\",\"save\",\"leadership\",\"disaster\",\"25\",\"foreign\",\"agree\",\"conference\",\"plus\",\"horrible\",\"leader\",\"find\",\"advantage\",\"visit\",\"5\",\"scam\",\"senators\",\"public\",\"crowd\",\"bigger\",\"un\",\"easy\",\"scavino45\",\"peter\",\"crimes\",\"mark\",\"lose\",\"lie\",\"focus\",\"children\",\"minnesota\",\"across\",\"mayor\",\"kind\",\"puerto\",\"rico\",\"syria\",\"hear\",\"read\",\"patrol\",\"false\",\"old\",\"nuclear\",\"moving\",\"schiff\",\"judge\",\"truth\",\"watching\",\"heard\",\"met\",\"nbc\",\"ask\",\"mariabartiromo\",\"comes\",\"ukraine\",\"members\",\"police\",\"post\",\"few\",\"past\",\"potential\",\"shows\",\"summit\",\"lawyer\",\"reserve\",\"forget\",\"choice\",\"policy\",\"respect\",\"2nd\",\"emails\",\"involved\",\"guy\",\"different\",\"sure\",\"enjoy\",\"playing\",\"continues\",\"polls\",\"able\",\"looks\",\"everybody\",\"center\",\"sources\",\"mike\",\"matter\",\"someone\",\"illegally\",\"kavanaugh\",\"seeing\",\"draintheswamp\",\"ll\",\"isis\",\"doj\",\"greatly\",\"reporting\",\"helping\",\"treated\",\"2018\",\"rep.\",\"fox\",\"caught\",\".the\",\"lady\",\"try\",\"representatives\",\"brave\",\"lower\",\"sign\",\"credibility\",\"talks\",\"rates\",\"less\",\"p.m.\",\"ohr\",\"nhc_atlantic\",\"announce\",\"europe\",\"brought\",\"lead\",\"ice\",\"defend\",\"small\",\"meetings\",\"understand\",\"set\",\"makes\",\"three\",\"confidence\",\"spent\",\"etc\",\"jim_jordan\",\"easily\",\"foxbusiness\",\"passed\",\"starting\",\"candidate\",\"donaldjtrumpjr\",\"opponent\",\"pleased\",\"staff\",\"local\",\"progress\",\"release\",\"powerful\",\"wasn\",\"inflation\",\"voting\",\"address\",\"adam\",\"spy\",\"barriers\",\"probably\",\"honored\",\"either\",\"elected\",\"policies\",\"voted\",\"clear\",\"nytimes\",\"whole\",\"interview\",\"consumer\",\"asking\",\"heroes\",\"responders\",\"fine\",\"georgia\",\"received\",\"industry\",\"legislation\",\"gdp\",\"jong\",\"question\",\"except\",\"importantly\",\"side\",\"citizens\",\"tuckercarlson\",\"shutdown\",\"strongly\",\"play\",\"expensive\",\"enemy\",\"hate\",\"bruce\",\"dishonest\",\"four\",\"plan\",\"sanctuary\",\"weeks\",\"d.c.\",\"concerning\",\"15\",\"meantime\",\"agreed\",\"press\",\"david\",\"10\",\"reported\",\"anywhere\",\".and\",\"coast\",\"action\",\"negative\",\"wife\",\"jeff\",\"nobody\",\"desperately\",\"testimony\",\"strongest\",\"certain\",\"sorry\",\"outstanding\",\"oil\",\"written\",\"disgrace\",\"lou\",\"kevin\",\"ig\",\"harassment\",\"broken\",\"behalf\",\"17\",\"middle\",\"secure\",\"idea\",\"8\",\"changed\",\"legal\",\"city\",\"interviewed\",\"afternoon\",\"senatemajldr\",\"knows\",\"using\",\"growth\",\"recently\",\"losing\",\"reached\",\"king\",\"celebrate\",\"short\",\"opportunity\",\"infrastructure\",\"putting\",\"missouri\",\"anthem\",\"chance\",\"within\",\"records\",\"acting\",\"negotiations\",\"msnbc\",\"tariff\",\"loopholes\",\"cohen\",\"facts\",\"informed\",\"currency\",\"transcript\",\"impeach\",\"landed\",\"enough\",\"private\",\"mike_pence\",\"fraud\",\"though\",\"voters\",\"knew\",\"politics\",\"gets\",\"pm\",\"tuesday\",\"mainstream\",\"rest\",\"sadly\",\"players\",\"dossier\",\"ingrahamangle\",\"results\",\"lisa\",\"mistake\",\"el\",\"abuse\",\"isn\",\"product\",\"mccabe\",\"mr.\",\"google\",\"storm\",\"tomfitton\",\"--\",\"raise\",\"bernie\",\"foundation\",\"east\",\"pouring\"],\"x\":{\"__ndarray__\":\"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\",\"dtype\":\"float32\",\"shape\":[1000]},\"y\":{\"__ndarray__\":\"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\",\"dtype\":\"float32\",\"shape\":[1000]}},\"selected\":{\"id\":\"1050\",\"type\":\"Selection\"},\"selection_policy\":{\"id\":\"1051\",\"type\":\"UnionRenderers\"}},\"id\":\"1001\",\"type\":\"ColumnDataSource\"},{\"attributes\":{\"data_source\":{\"id\":\"1001\",\"type\":\"ColumnDataSource\"},\"glyph\":{\"id\":\"1037\",\"type\":\"Scatter\"},\"hover_glyph\":null,\"muted_glyph\":null,\"nonselection_glyph\":{\"id\":\"1038\",\"type\":\"Scatter\"},\"selection_glyph\":null,\"view\":{\"id\":\"1040\",\"type\":\"CDSView\"}},\"id\":\"1039\",\"type\":\"GlyphRenderer\"},{\"attributes\":{},\"id\":\"1051\",\"type\":\"UnionRenderers\"},{\"attributes\":{\"active_drag\":\"auto\",\"active_inspect\":\"auto\",\"active_multi\":null,\"active_scroll\":{\"id\":\"1022\",\"type\":\"WheelZoomTool\"},\"active_tap\":\"auto\",\"tools\":[{\"id\":\"1021\",\"type\":\"PanTool\"},{\"id\":\"1022\",\"type\":\"WheelZoomTool\"},{\"id\":\"1023\",\"type\":\"BoxZoomTool\"},{\"id\":\"1024\",\"type\":\"SaveTool\"},{\"id\":\"1025\",\"type\":\"ResetTool\"},{\"id\":\"1026\",\"type\":\"HelpTool\"},{\"id\":\"1041\",\"type\":\"HoverTool\"}]},\"id\":\"1027\",\"type\":\"Toolbar\"},{\"attributes\":{\"formatter\":{\"id\":\"1047\",\"type\":\"BasicTickFormatter\"},\"plot\":{\"id\":\"1002\",\"subtype\":\"Figure\",\"type\":\"Plot\"},\"ticker\":{\"id\":\"1017\",\"type\":\"BasicTicker\"}},\"id\":\"1016\",\"type\":\"LinearAxis\"},{\"attributes\":{},\"id\":\"1007\",\"type\":\"LinearScale\"},{\"attributes\":{\"callback\":null,\"tooltips\":[[\"token\",\"@token\"]]},\"id\":\"1041\",\"type\":\"HoverTool\"},{\"attributes\":{\"source\":{\"id\":\"1001\",\"type\":\"ColumnDataSource\"}},\"id\":\"1040\",\"type\":\"CDSView\"},{\"attributes\":{\"dimension\":1,\"plot\":{\"id\":\"1002\",\"subtype\":\"Figure\",\"type\":\"Plot\"},\"ticker\":{\"id\":\"1017\",\"type\":\"BasicTicker\"}},\"id\":\"1020\",\"type\":\"Grid\"},{\"attributes\":{},\"id\":\"1009\",\"type\":\"LinearScale\"},{\"attributes\":{\"fill_alpha\":{\"value\":0.1},\"fill_color\":{\"value\":\"#1f77b4\"},\"line_alpha\":{\"value\":0.1},\"line_color\":{\"value\":\"#1f77b4\"},\"size\":{\"units\":\"screen\",\"value\":10},\"x\":{\"field\":\"x\"},\"y\":{\"field\":\"y\"}},\"id\":\"1038\",\"type\":\"Scatter\"},{\"attributes\":{},\"id\":\"1045\",\"type\":\"BasicTickFormatter\"},{\"attributes\":{\"fill_alpha\":{\"value\":0.25},\"fill_color\":{\"field\":\"color\"},\"line_alpha\":{\"value\":0.25},\"line_color\":{\"field\":\"color\"},\"size\":{\"units\":\"screen\",\"value\":10},\"x\":{\"field\":\"x\"},\"y\":{\"field\":\"y\"}},\"id\":\"1037\",\"type\":\"Scatter\"},{\"attributes\":{},\"id\":\"1021\",\"type\":\"PanTool\"},{\"attributes\":{},\"id\":\"1024\",\"type\":\"SaveTool\"},{\"attributes\":{},\"id\":\"1050\",\"type\":\"Selection\"},{\"attributes\":{},\"id\":\"1047\",\"type\":\"BasicTickFormatter\"},{\"attributes\":{\"formatter\":{\"id\":\"1045\",\"type\":\"BasicTickFormatter\"},\"plot\":{\"id\":\"1002\",\"subtype\":\"Figure\",\"type\":\"Plot\"},\"ticker\":{\"id\":\"1012\",\"type\":\"BasicTicker\"}},\"id\":\"1011\",\"type\":\"LinearAxis\"}],\"root_ids\":[\"1002\"]},\"title\":\"Bokeh Application\",\"version\":\"1.0.4\"}};\n",
              "  var render_items = [{\"docid\":\"fc29ea37-fda5-40e8-8fe1-0a4662c40e80\",\"roots\":{\"1002\":\"e46b9cfe-ddf7-4149-8f37-b546b5416696\"}}];\n",
              "  root.Bokeh.embed.embed_items_notebook(docs_json, render_items);\n",
              "\n",
              "  }\n",
              "  if (root.Bokeh !== undefined) {\n",
              "    embed_document(root);\n",
              "  } else {\n",
              "    var attempts = 0;\n",
              "    var timer = setInterval(function(root) {\n",
              "      if (root.Bokeh !== undefined) {\n",
              "        embed_document(root);\n",
              "        clearInterval(timer);\n",
              "      }\n",
              "      attempts++;\n",
              "      if (attempts > 100) {\n",
              "        console.log(\"Bokeh: ERROR: Unable to run BokehJS code because BokehJS library is missing\");\n",
              "        clearInterval(timer);\n",
              "      }\n",
              "    }, 10, root)\n",
              "  }\n",
              "})(window);"
            ],
            "application/vnd.bokehjs_exec.v0+json": ""
          },
          "metadata": {
            "tags": [],
            "application/vnd.bokehjs_exec.v0+json": {
              "id": "1002"
            }
          }
        },
        {
          "output_type": "execute_result",
          "data": {
            "text/html": [
              "<div style=\"display: table;\"><div style=\"display: table-row;\"><div style=\"display: table-cell;\"><b title=\"bokeh.plotting.figure.Figure\">Figure</b>(</div><div style=\"display: table-cell;\">id&nbsp;=&nbsp;'1002', <span id=\"1107\" style=\"cursor: pointer;\">&hellip;)</span></div></div><div class=\"1106\" style=\"display: none;\"><div style=\"display: table-cell;\"></div><div style=\"display: table-cell;\">above&nbsp;=&nbsp;[],</div></div><div class=\"1106\" style=\"display: none;\"><div style=\"display: table-cell;\"></div><div style=\"display: table-cell;\">aspect_scale&nbsp;=&nbsp;1,</div></div><div class=\"1106\" style=\"display: none;\"><div style=\"display: table-cell;\"></div><div style=\"display: table-cell;\">background_fill_alpha&nbsp;=&nbsp;{'value': 1.0},</div></div><div class=\"1106\" style=\"display: none;\"><div style=\"display: table-cell;\"></div><div style=\"display: table-cell;\">background_fill_color&nbsp;=&nbsp;{'value': '#ffffff'},</div></div><div class=\"1106\" style=\"display: none;\"><div style=\"display: table-cell;\"></div><div style=\"display: table-cell;\">below&nbsp;=&nbsp;[LinearAxis(id='1011', ...)],</div></div><div class=\"1106\" style=\"display: none;\"><div style=\"display: table-cell;\"></div><div style=\"display: table-cell;\">border_fill_alpha&nbsp;=&nbsp;{'value': 1.0},</div></div><div class=\"1106\" style=\"display: none;\"><div style=\"display: table-cell;\"></div><div style=\"display: table-cell;\">border_fill_color&nbsp;=&nbsp;{'value': '#ffffff'},</div></div><div class=\"1106\" style=\"display: none;\"><div style=\"display: table-cell;\"></div><div style=\"display: table-cell;\">css_classes&nbsp;=&nbsp;[],</div></div><div class=\"1106\" style=\"display: none;\"><div style=\"display: table-cell;\"></div><div style=\"display: table-cell;\">disabled&nbsp;=&nbsp;False,</div></div><div class=\"1106\" style=\"display: none;\"><div style=\"display: table-cell;\"></div><div style=\"display: table-cell;\">extra_x_ranges&nbsp;=&nbsp;{},</div></div><div class=\"1106\" style=\"display: none;\"><div style=\"display: table-cell;\"></div><div style=\"display: table-cell;\">extra_y_ranges&nbsp;=&nbsp;{},</div></div><div class=\"1106\" style=\"display: none;\"><div style=\"display: table-cell;\"></div><div style=\"display: table-cell;\">h_symmetry&nbsp;=&nbsp;True,</div></div><div class=\"1106\" style=\"display: none;\"><div style=\"display: table-cell;\"></div><div style=\"display: table-cell;\">height&nbsp;=&nbsp;None,</div></div><div class=\"1106\" style=\"display: none;\"><div style=\"display: table-cell;\"></div><div style=\"display: table-cell;\">hidpi&nbsp;=&nbsp;True,</div></div><div class=\"1106\" style=\"display: none;\"><div style=\"display: table-cell;\"></div><div style=\"display: table-cell;\">js_event_callbacks&nbsp;=&nbsp;{},</div></div><div class=\"1106\" style=\"display: none;\"><div style=\"display: table-cell;\"></div><div style=\"display: table-cell;\">js_property_callbacks&nbsp;=&nbsp;{},</div></div><div class=\"1106\" style=\"display: none;\"><div style=\"display: table-cell;\"></div><div style=\"display: table-cell;\">left&nbsp;=&nbsp;[LinearAxis(id='1016', ...)],</div></div><div class=\"1106\" style=\"display: none;\"><div style=\"display: table-cell;\"></div><div style=\"display: table-cell;\">lod_factor&nbsp;=&nbsp;10,</div></div><div class=\"1106\" style=\"display: none;\"><div style=\"display: table-cell;\"></div><div style=\"display: table-cell;\">lod_interval&nbsp;=&nbsp;300,</div></div><div class=\"1106\" style=\"display: none;\"><div style=\"display: table-cell;\"></div><div style=\"display: table-cell;\">lod_threshold&nbsp;=&nbsp;2000,</div></div><div class=\"1106\" style=\"display: none;\"><div style=\"display: table-cell;\"></div><div style=\"display: table-cell;\">lod_timeout&nbsp;=&nbsp;500,</div></div><div class=\"1106\" style=\"display: none;\"><div style=\"display: table-cell;\"></div><div style=\"display: table-cell;\">match_aspect&nbsp;=&nbsp;False,</div></div><div class=\"1106\" style=\"display: none;\"><div style=\"display: table-cell;\"></div><div style=\"display: table-cell;\">min_border&nbsp;=&nbsp;5,</div></div><div class=\"1106\" style=\"display: none;\"><div style=\"display: table-cell;\"></div><div style=\"display: table-cell;\">min_border_bottom&nbsp;=&nbsp;None,</div></div><div class=\"1106\" style=\"display: none;\"><div style=\"display: table-cell;\"></div><div style=\"display: table-cell;\">min_border_left&nbsp;=&nbsp;None,</div></div><div class=\"1106\" style=\"display: none;\"><div style=\"display: table-cell;\"></div><div style=\"display: table-cell;\">min_border_right&nbsp;=&nbsp;None,</div></div><div class=\"1106\" style=\"display: none;\"><div style=\"display: table-cell;\"></div><div style=\"display: table-cell;\">min_border_top&nbsp;=&nbsp;None,</div></div><div class=\"1106\" style=\"display: none;\"><div style=\"display: table-cell;\"></div><div style=\"display: table-cell;\">name&nbsp;=&nbsp;None,</div></div><div class=\"1106\" style=\"display: none;\"><div style=\"display: table-cell;\"></div><div style=\"display: table-cell;\">outline_line_alpha&nbsp;=&nbsp;{'value': 1.0},</div></div><div class=\"1106\" style=\"display: none;\"><div style=\"display: table-cell;\"></div><div style=\"display: table-cell;\">outline_line_cap&nbsp;=&nbsp;'butt',</div></div><div class=\"1106\" style=\"display: none;\"><div style=\"display: table-cell;\"></div><div style=\"display: table-cell;\">outline_line_color&nbsp;=&nbsp;{'value': '#e5e5e5'},</div></div><div class=\"1106\" style=\"display: none;\"><div style=\"display: table-cell;\"></div><div style=\"display: table-cell;\">outline_line_dash&nbsp;=&nbsp;[],</div></div><div class=\"1106\" style=\"display: none;\"><div style=\"display: table-cell;\"></div><div style=\"display: table-cell;\">outline_line_dash_offset&nbsp;=&nbsp;0,</div></div><div class=\"1106\" style=\"display: none;\"><div style=\"display: table-cell;\"></div><div style=\"display: table-cell;\">outline_line_join&nbsp;=&nbsp;'bevel',</div></div><div class=\"1106\" style=\"display: none;\"><div style=\"display: table-cell;\"></div><div style=\"display: table-cell;\">outline_line_width&nbsp;=&nbsp;{'value': 1},</div></div><div class=\"1106\" style=\"display: none;\"><div style=\"display: table-cell;\"></div><div style=\"display: table-cell;\">output_backend&nbsp;=&nbsp;'canvas',</div></div><div class=\"1106\" style=\"display: none;\"><div style=\"display: table-cell;\"></div><div style=\"display: table-cell;\">plot_height&nbsp;=&nbsp;400,</div></div><div class=\"1106\" style=\"display: none;\"><div style=\"display: table-cell;\"></div><div style=\"display: table-cell;\">plot_width&nbsp;=&nbsp;600,</div></div><div class=\"1106\" style=\"display: none;\"><div style=\"display: table-cell;\"></div><div style=\"display: table-cell;\">renderers&nbsp;=&nbsp;[LinearAxis(id='1011', ...), Grid(id='1015', ...), LinearAxis(id='1016', ...), Grid(id='1020', ...), BoxAnnotation(id='1029', ...), GlyphRenderer(id='1039', ...)],</div></div><div class=\"1106\" style=\"display: none;\"><div style=\"display: table-cell;\"></div><div style=\"display: table-cell;\">right&nbsp;=&nbsp;[],</div></div><div class=\"1106\" style=\"display: none;\"><div style=\"display: table-cell;\"></div><div style=\"display: table-cell;\">sizing_mode&nbsp;=&nbsp;'fixed',</div></div><div class=\"1106\" style=\"display: none;\"><div style=\"display: table-cell;\"></div><div style=\"display: table-cell;\">subscribed_events&nbsp;=&nbsp;[],</div></div><div class=\"1106\" style=\"display: none;\"><div style=\"display: table-cell;\"></div><div style=\"display: table-cell;\">tags&nbsp;=&nbsp;[],</div></div><div class=\"1106\" style=\"display: none;\"><div style=\"display: table-cell;\"></div><div style=\"display: table-cell;\">title&nbsp;=&nbsp;Title(id='1044', ...),</div></div><div class=\"1106\" style=\"display: none;\"><div style=\"display: table-cell;\"></div><div style=\"display: table-cell;\">title_location&nbsp;=&nbsp;'above',</div></div><div class=\"1106\" style=\"display: none;\"><div style=\"display: table-cell;\"></div><div style=\"display: table-cell;\">toolbar&nbsp;=&nbsp;Toolbar(id='1027', ...),</div></div><div class=\"1106\" style=\"display: none;\"><div style=\"display: table-cell;\"></div><div style=\"display: table-cell;\">toolbar_location&nbsp;=&nbsp;'right',</div></div><div class=\"1106\" style=\"display: none;\"><div style=\"display: table-cell;\"></div><div style=\"display: table-cell;\">toolbar_sticky&nbsp;=&nbsp;True,</div></div><div class=\"1106\" style=\"display: none;\"><div style=\"display: table-cell;\"></div><div style=\"display: table-cell;\">v_symmetry&nbsp;=&nbsp;False,</div></div><div class=\"1106\" style=\"display: none;\"><div style=\"display: table-cell;\"></div><div style=\"display: table-cell;\">width&nbsp;=&nbsp;None,</div></div><div class=\"1106\" style=\"display: none;\"><div style=\"display: table-cell;\"></div><div style=\"display: table-cell;\">x_range&nbsp;=&nbsp;DataRange1d(id='1003', ...),</div></div><div class=\"1106\" style=\"display: none;\"><div style=\"display: table-cell;\"></div><div style=\"display: table-cell;\">x_scale&nbsp;=&nbsp;LinearScale(id='1007', ...),</div></div><div class=\"1106\" style=\"display: none;\"><div style=\"display: table-cell;\"></div><div style=\"display: table-cell;\">y_range&nbsp;=&nbsp;DataRange1d(id='1005', ...),</div></div><div class=\"1106\" style=\"display: none;\"><div style=\"display: table-cell;\"></div><div style=\"display: table-cell;\">y_scale&nbsp;=&nbsp;LinearScale(id='1009', ...))</div></div></div>\n",
              "<script>\n",
              "(function() {\n",
              "  var expanded = false;\n",
              "  var ellipsis = document.getElementById(\"1107\");\n",
              "  ellipsis.addEventListener(\"click\", function() {\n",
              "    var rows = document.getElementsByClassName(\"1106\");\n",
              "    for (var i = 0; i < rows.length; i++) {\n",
              "      var el = rows[i];\n",
              "      el.style.display = expanded ? \"none\" : \"table-row\";\n",
              "    }\n",
              "    ellipsis.innerHTML = expanded ? \"&hellip;)\" : \"&lsaquo;&lsaquo;&lsaquo;\";\n",
              "    expanded = !expanded;\n",
              "  });\n",
              "})();\n",
              "</script>\n"
            ],
            "text/plain": [
              "Figure(id='1002', ...)"
            ]
          },
          "metadata": {
            "tags": []
          },
          "execution_count": 47
        }
      ]
    },
    {
      "cell_type": "markdown",
      "metadata": {
        "id": "zRlaSoTau76O",
        "colab_type": "text"
      },
      "source": [
        "From the plots we can see that we have in fact managed to vectorize the words.\n",
        "\n",
        "Next step will be to determine a new model using the wiki gigaword 300 preloaded model."
      ]
    },
    {
      "cell_type": "code",
      "metadata": {
        "id": "kVNoW3T8vzIk",
        "colab_type": "code",
        "outputId": "ccf0e546-e9e8-48ef-eea4-cbc5f1c5b3c1",
        "colab": {
          "base_uri": "https://localhost:8080/",
          "height": 87
        }
      },
      "source": [
        "#Assigning preloaded model\n",
        "model = api.load('glove-wiki-gigaword-300')"
      ],
      "execution_count": 0,
      "outputs": [
        {
          "output_type": "stream",
          "text": [
            "[==================================================] 100.0% 376.1/376.1MB downloaded\n"
          ],
          "name": "stdout"
        },
        {
          "output_type": "stream",
          "text": [
            "/usr/local/lib/python3.6/dist-packages/smart_open/smart_open_lib.py:398: UserWarning: This function is deprecated, use smart_open.open instead. See the migration notes for details: https://github.com/RaRe-Technologies/smart_open/blob/master/README.rst#migrating-to-the-new-open-function\n",
            "  'See the migration notes for details: %s' % _MIGRATION_NOTES_URL\n"
          ],
          "name": "stderr"
        }
      ]
    },
    {
      "cell_type": "markdown",
      "metadata": {
        "id": "gaND_1qLv14j",
        "colab_type": "text"
      },
      "source": [
        "We use Roman's helper function to help vectorize."
      ]
    },
    {
      "cell_type": "code",
      "metadata": {
        "id": "PGVAog25wM5F",
        "colab_type": "code",
        "colab": {}
      },
      "source": [
        "#Romans helper function to vectorize\n",
        "def get_phrase_embedding(model, phrase):    \n",
        "    vector = np.zeros([model.vector_size], dtype='float32')\n",
        "    if type(phrase) == str:\n",
        "      phrase = list(map(lambda x: x.lower(), word_tokenize(phrase)))\n",
        "    vecs = [model.get_vector(tok) for tok in phrase if tok in model.wv.vocab]\n",
        "    if len(vecs) == 0:\n",
        "      return vector\n",
        "    else:\n",
        "      vector = sum(vecs)/len(vecs)\n",
        "      return vector"
      ],
      "execution_count": 0,
      "outputs": []
    },
    {
      "cell_type": "code",
      "metadata": {
        "id": "7AzlMPCPwOeH",
        "colab_type": "code",
        "colab": {}
      },
      "source": [
        "#Importing multiprocessing tool to map the tweets faster\n",
        "import multiprocessing\n",
        "p = multiprocessing.Pool()\n",
        "\n",
        "train_df_tweet_tok = p.map(word_tokenize, train_df.tweetraw)\n",
        "test_df_tweet_tok = p.map(word_tokenize, test_df.tweetraw)"
      ],
      "execution_count": 0,
      "outputs": []
    },
    {
      "cell_type": "code",
      "metadata": {
        "id": "xe345jPXwPu9",
        "colab_type": "code",
        "outputId": "8cdb2a91-af0f-42e9-9bb5-9a664dae4674",
        "colab": {
          "base_uri": "https://localhost:8080/",
          "height": 50
        }
      },
      "source": [
        "#Vectorizing train and test set\n",
        "text_vectors_train = np.array([get_phrase_embedding(model, phrase) for phrase in train_df_tweet_tok])\n",
        "text_vectors_test = np.array([get_phrase_embedding(model, phrase) for phrase in test_df_tweet_tok])"
      ],
      "execution_count": 0,
      "outputs": [
        {
          "output_type": "stream",
          "text": [
            "/usr/local/lib/python3.6/dist-packages/ipykernel_launcher.py:5: DeprecationWarning: Call to deprecated `wv` (Attribute will be removed in 4.0.0, use self instead).\n",
            "  \"\"\"\n"
          ],
          "name": "stderr"
        }
      ]
    },
    {
      "cell_type": "markdown",
      "metadata": {
        "id": "mhKH5E0i0bz4",
        "colab_type": "text"
      },
      "source": [
        "Now that we have everything vectorized it's a simple matter of using a classifier, e.g. LogisticRegression and fit our text_vectors_train to our market reactions."
      ]
    },
    {
      "cell_type": "code",
      "metadata": {
        "id": "bhhsRBQJEbIB",
        "colab_type": "code",
        "colab": {}
      },
      "source": [
        "text_vectors_train = np.reshape(text_vectors_train,(-1,1))\n",
        "text_vectors_test = np.reshape(text_vectors_test,(-1,1))"
      ],
      "execution_count": 0,
      "outputs": []
    },
    {
      "cell_type": "code",
      "metadata": {
        "id": "_KKG7cSSwRsW",
        "colab_type": "code",
        "outputId": "74ed4c02-7810-4cad-eb88-93396bf91c45",
        "colab": {
          "base_uri": "https://localhost:8080/"
        }
      },
      "source": [
        "#Training model\n",
        "clf1 = LogisticRegression()\n",
        "clf2 = XGBClassifier()\n",
        "pred1 = clf1.fit(text_vectors_train,train_df['usa_op'])"
      ],
      "execution_count": 0,
      "outputs": [
        {
          "output_type": "stream",
          "text": [
            "/usr/local/lib/python3.6/dist-packages/sklearn/linear_model/logistic.py:432: FutureWarning: Default solver will be changed to 'lbfgs' in 0.22. Specify a solver to silence this warning.\n",
            "  FutureWarning)\n"
          ],
          "name": "stderr"
        }
      ]
    },
    {
      "cell_type": "code",
      "metadata": {
        "id": "ScJhx3kc1V8s",
        "colab_type": "code",
        "outputId": "d5509759-bbaf-45ca-bda1-ae26d5445f9e",
        "colab": {
          "base_uri": "https://localhost:8080/"
        }
      },
      "source": [
        "pred2 = clf1.fit(text_vectors_train,train_df['dax_op'])"
      ],
      "execution_count": 0,
      "outputs": [
        {
          "output_type": "stream",
          "text": [
            "/usr/local/lib/python3.6/dist-packages/sklearn/linear_model/logistic.py:432: FutureWarning: Default solver will be changed to 'lbfgs' in 0.22. Specify a solver to silence this warning.\n",
            "  FutureWarning)\n"
          ],
          "name": "stderr"
        }
      ]
    },
    {
      "cell_type": "code",
      "metadata": {
        "id": "pwo0k2pO1mXs",
        "colab_type": "code",
        "outputId": "5017eca1-d7ee-49d1-9e83-353bc637f9a6",
        "colab": {
          "base_uri": "https://localhost:8080/",
          "height": 70
        }
      },
      "source": [
        "pred3 = clf1.fit(text_vectors_train,train_df['china_op'])"
      ],
      "execution_count": 0,
      "outputs": [
        {
          "output_type": "stream",
          "text": [
            "/usr/local/lib/python3.6/dist-packages/sklearn/linear_model/logistic.py:432: FutureWarning: Default solver will be changed to 'lbfgs' in 0.22. Specify a solver to silence this warning.\n",
            "  FutureWarning)\n"
          ],
          "name": "stderr"
        }
      ]
    },
    {
      "cell_type": "code",
      "metadata": {
        "id": "Z8BcrltNwUT2",
        "colab_type": "code",
        "outputId": "4830f4ea-bff2-47ff-9c98-ef9f59bcc973",
        "colab": {
          "base_uri": "https://localhost:8080/",
          "height": 151
        }
      },
      "source": [
        "print('US precision:')\n",
        "print(pred1.score(text_vectors_test,test_df['usa_op']))\n",
        "print()\n",
        "print('DAX precision')\n",
        "print(pred2.score(text_vectors_test,test_df['dax_op']))\n",
        "print()\n",
        "print('China precision')\n",
        "print(pred3.score(text_vectors_test,test_df['china_op']))"
      ],
      "execution_count": 0,
      "outputs": [
        {
          "output_type": "stream",
          "text": [
            "US precision:\n",
            "0.5303867403314917\n",
            "\n",
            "DAX precision\n",
            "0.5248618784530387\n",
            "\n",
            "China precision\n",
            "0.48066298342541436\n"
          ],
          "name": "stdout"
        }
      ]
    },
    {
      "cell_type": "markdown",
      "metadata": {
        "id": "ZCQuSS791A26",
        "colab_type": "text"
      },
      "source": [
        "Looking at above, it seems like the model using Trump tweets has a precision of 0.53 when trying to predict movements in the US market, 0.52 when predicting the European market, and 0,48 when predicting the Chinese market.\n",
        "\n",
        "Those precisions are overall very low, thus it doesn't seem like those tweets alone are causing volatility in the stock markets.\n",
        "\n",
        "Trying with another classifier, XGBoost, gives similar results."
      ]
    },
    {
      "cell_type": "code",
      "metadata": {
        "id": "oDsw5lfrQGDG",
        "colab_type": "code",
        "outputId": "30894b34-5ab2-466a-f91c-2b7f3eec307d",
        "colab": {
          "base_uri": "https://localhost:8080/"
        }
      },
      "source": [
        "pred4 = clf2.fit(text_vectors_train,train_df['usa_op'])\n",
        "print(pred4.score(text_vectors_test,test_df['usa_op']))\n",
        "pred5 = clf2.fit(text_vectors_train,train_df['dax_op'])\n",
        "print(pred5.score(text_vectors_test,test_df['dax_op']))\n",
        "pred6 = clf2.fit(text_vectors_train,train_df['china_op'])\n",
        "print(pred6.score(text_vectors_test,test_df['china_op']))"
      ],
      "execution_count": 0,
      "outputs": [
        {
          "output_type": "stream",
          "text": [
            "0.5248618784530387\n",
            "0.5414364640883977\n",
            "0.574585635359116\n"
          ],
          "name": "stdout"
        }
      ]
    },
    {
      "cell_type": "markdown",
      "metadata": {
        "id": "4_nU3JuHaS7S",
        "colab_type": "text"
      },
      "source": [
        "Using XGBoost gives slightly lower precision for the US market, but slightly better for the European and Chinese markets.\n",
        "\n",
        "With those results in mind, our final conclusion is, that we cannot reliably predict the market movements using Trump's trade war related tweets."
      ]
    }
  ]
}